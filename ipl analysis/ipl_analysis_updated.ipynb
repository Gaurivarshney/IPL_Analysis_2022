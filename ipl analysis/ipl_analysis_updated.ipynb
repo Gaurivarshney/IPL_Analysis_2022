{
 "cells": [
  {
   "cell_type": "code",
   "execution_count": 2,
   "id": "5520804c-283c-41d6-89eb-427a280ace19",
   "metadata": {},
   "outputs": [],
   "source": [
    "import numpy as np\n",
    "import matplotlib.pyplot as plt\n",
    "import pandas as pd\n",
    "import seaborn as sns"
   ]
  },
  {
   "cell_type": "markdown",
   "id": "d50b8e4a-654c-49e2-b6ef-d667cc070352",
   "metadata": {},
   "source": [
    "# importing files"
   ]
  },
  {
   "cell_type": "code",
   "execution_count": 3,
   "id": "81fa1cd6-fb65-48f6-895a-e94ec94575ea",
   "metadata": {},
   "outputs": [],
   "source": [
    "matches_df= pd.read_csv(r\"C:\\Users\\gauri\\Downloads\\IPL_Matches_2022.csv\")\n",
    "ball_df= pd.read_csv(r\"C:\\Users\\gauri\\Downloads\\IPL_Ball_by_Ball_2022.csv\")\n",
    "match= pd.read_csv(r\"C:\\Users\\gauri\\Downloads\\matches.csv\")"
   ]
  },
  {
   "cell_type": "markdown",
   "id": "468144fc-541c-43f1-90be-303b5f9a8396",
   "metadata": {},
   "source": [
    "# reading dataframe"
   ]
  },
  {
   "cell_type": "code",
   "execution_count": 4,
   "id": "7907eca0-a762-4e0b-ac2f-b5408c1d9e62",
   "metadata": {},
   "outputs": [
    {
     "data": {
      "text/html": [
       "<div>\n",
       "<style scoped>\n",
       "    .dataframe tbody tr th:only-of-type {\n",
       "        vertical-align: middle;\n",
       "    }\n",
       "\n",
       "    .dataframe tbody tr th {\n",
       "        vertical-align: top;\n",
       "    }\n",
       "\n",
       "    .dataframe thead th {\n",
       "        text-align: right;\n",
       "    }\n",
       "</style>\n",
       "<table border=\"1\" class=\"dataframe\">\n",
       "  <thead>\n",
       "    <tr style=\"text-align: right;\">\n",
       "      <th></th>\n",
       "      <th>ID</th>\n",
       "      <th>City</th>\n",
       "      <th>Date</th>\n",
       "      <th>Season</th>\n",
       "      <th>MatchNumber</th>\n",
       "      <th>Team1</th>\n",
       "      <th>Team2</th>\n",
       "      <th>Venue</th>\n",
       "      <th>TossWinner</th>\n",
       "      <th>TossDecision</th>\n",
       "      <th>SuperOver</th>\n",
       "      <th>WinningTeam</th>\n",
       "      <th>WonBy</th>\n",
       "      <th>Margin</th>\n",
       "      <th>method</th>\n",
       "      <th>Player_of_Match</th>\n",
       "      <th>Team1Players</th>\n",
       "      <th>Team2Players</th>\n",
       "      <th>Umpire1</th>\n",
       "      <th>Umpire2</th>\n",
       "    </tr>\n",
       "  </thead>\n",
       "  <tbody>\n",
       "    <tr>\n",
       "      <th>0</th>\n",
       "      <td>1304105</td>\n",
       "      <td>Mumbai</td>\n",
       "      <td>2022-05-12</td>\n",
       "      <td>2022</td>\n",
       "      <td>59</td>\n",
       "      <td>Chennai Super Kings</td>\n",
       "      <td>Mumbai Indians</td>\n",
       "      <td>Wankhede Stadium, Mumbai</td>\n",
       "      <td>Mumbai Indians</td>\n",
       "      <td>field</td>\n",
       "      <td>N</td>\n",
       "      <td>Mumbai Indians</td>\n",
       "      <td>Wickets</td>\n",
       "      <td>5</td>\n",
       "      <td>NaN</td>\n",
       "      <td>DR Sams</td>\n",
       "      <td>['RD Gaikwad', 'DP Conway', 'MM Ali', 'RV Utha...</td>\n",
       "      <td>['Ishan Kishan', 'RG Sharma', 'DR Sams', 'Tila...</td>\n",
       "      <td>Chirra Ravikanthreddy</td>\n",
       "      <td>CB Gaffaney</td>\n",
       "    </tr>\n",
       "    <tr>\n",
       "      <th>1</th>\n",
       "      <td>1304104</td>\n",
       "      <td>Navi Mumbai</td>\n",
       "      <td>2022-05-11</td>\n",
       "      <td>2022</td>\n",
       "      <td>58</td>\n",
       "      <td>Rajasthan Royals</td>\n",
       "      <td>Delhi Capitals</td>\n",
       "      <td>Dr DY Patil Sports Academy, Mumbai</td>\n",
       "      <td>Delhi Capitals</td>\n",
       "      <td>field</td>\n",
       "      <td>N</td>\n",
       "      <td>Delhi Capitals</td>\n",
       "      <td>Wickets</td>\n",
       "      <td>8</td>\n",
       "      <td>NaN</td>\n",
       "      <td>MR Marsh</td>\n",
       "      <td>['YBK Jaiswal', 'JC Buttler', 'R Ashwin', 'D P...</td>\n",
       "      <td>['KS Bharat', 'DA Warner', 'MR Marsh', 'RR Pan...</td>\n",
       "      <td>NA Patwardhan</td>\n",
       "      <td>Nitin Menon</td>\n",
       "    </tr>\n",
       "    <tr>\n",
       "      <th>2</th>\n",
       "      <td>1304103</td>\n",
       "      <td>Pune</td>\n",
       "      <td>2022-05-10</td>\n",
       "      <td>2022</td>\n",
       "      <td>57</td>\n",
       "      <td>Gujarat Titans</td>\n",
       "      <td>Lucknow Super Giants</td>\n",
       "      <td>Maharashtra Cricket Association Stadium, Pune</td>\n",
       "      <td>Gujarat Titans</td>\n",
       "      <td>bat</td>\n",
       "      <td>N</td>\n",
       "      <td>Gujarat Titans</td>\n",
       "      <td>Runs</td>\n",
       "      <td>62</td>\n",
       "      <td>NaN</td>\n",
       "      <td>Shubman Gill</td>\n",
       "      <td>['WP Saha', 'Shubman Gill', 'MS Wade', 'HH Pan...</td>\n",
       "      <td>['Q de Kock', 'KL Rahul', 'DJ Hooda', 'KS Shar...</td>\n",
       "      <td>KN Ananthapadmanabhan</td>\n",
       "      <td>MA Gough</td>\n",
       "    </tr>\n",
       "    <tr>\n",
       "      <th>3</th>\n",
       "      <td>1304102</td>\n",
       "      <td>Navi Mumbai</td>\n",
       "      <td>2022-05-09</td>\n",
       "      <td>2022</td>\n",
       "      <td>56</td>\n",
       "      <td>Kolkata Knight Riders</td>\n",
       "      <td>Mumbai Indians</td>\n",
       "      <td>Dr DY Patil Sports Academy, Mumbai</td>\n",
       "      <td>Mumbai Indians</td>\n",
       "      <td>field</td>\n",
       "      <td>N</td>\n",
       "      <td>Kolkata Knight Riders</td>\n",
       "      <td>Runs</td>\n",
       "      <td>52</td>\n",
       "      <td>NaN</td>\n",
       "      <td>JJ Bumrah</td>\n",
       "      <td>['VR Iyer', 'AM Rahane', 'N Rana', 'SS Iyer', ...</td>\n",
       "      <td>['RG Sharma', 'Ishan Kishan', 'Tilak Varma', '...</td>\n",
       "      <td>CB Gaffaney</td>\n",
       "      <td>GR Sadashiv Iyer</td>\n",
       "    </tr>\n",
       "    <tr>\n",
       "      <th>4</th>\n",
       "      <td>1304101</td>\n",
       "      <td>Navi Mumbai</td>\n",
       "      <td>2022-05-08</td>\n",
       "      <td>2022</td>\n",
       "      <td>55</td>\n",
       "      <td>Chennai Super Kings</td>\n",
       "      <td>Delhi Capitals</td>\n",
       "      <td>Dr DY Patil Sports Academy, Mumbai</td>\n",
       "      <td>Delhi Capitals</td>\n",
       "      <td>field</td>\n",
       "      <td>N</td>\n",
       "      <td>Chennai Super Kings</td>\n",
       "      <td>Runs</td>\n",
       "      <td>91</td>\n",
       "      <td>NaN</td>\n",
       "      <td>DP Conway</td>\n",
       "      <td>['RD Gaikwad', 'DP Conway', 'S Dube', 'AT Rayu...</td>\n",
       "      <td>['DA Warner', 'KS Bharat', 'MR Marsh', 'RR Pan...</td>\n",
       "      <td>Nitin Menon</td>\n",
       "      <td>R Pandit</td>\n",
       "    </tr>\n",
       "  </tbody>\n",
       "</table>\n",
       "</div>"
      ],
      "text/plain": [
       "        ID         City        Date  Season  MatchNumber  \\\n",
       "0  1304105       Mumbai  2022-05-12    2022           59   \n",
       "1  1304104  Navi Mumbai  2022-05-11    2022           58   \n",
       "2  1304103         Pune  2022-05-10    2022           57   \n",
       "3  1304102  Navi Mumbai  2022-05-09    2022           56   \n",
       "4  1304101  Navi Mumbai  2022-05-08    2022           55   \n",
       "\n",
       "                   Team1                 Team2  \\\n",
       "0    Chennai Super Kings        Mumbai Indians   \n",
       "1       Rajasthan Royals        Delhi Capitals   \n",
       "2         Gujarat Titans  Lucknow Super Giants   \n",
       "3  Kolkata Knight Riders        Mumbai Indians   \n",
       "4    Chennai Super Kings        Delhi Capitals   \n",
       "\n",
       "                                           Venue      TossWinner TossDecision  \\\n",
       "0                       Wankhede Stadium, Mumbai  Mumbai Indians        field   \n",
       "1             Dr DY Patil Sports Academy, Mumbai  Delhi Capitals        field   \n",
       "2  Maharashtra Cricket Association Stadium, Pune  Gujarat Titans          bat   \n",
       "3             Dr DY Patil Sports Academy, Mumbai  Mumbai Indians        field   \n",
       "4             Dr DY Patil Sports Academy, Mumbai  Delhi Capitals        field   \n",
       "\n",
       "  SuperOver            WinningTeam    WonBy  Margin  method Player_of_Match  \\\n",
       "0         N         Mumbai Indians  Wickets       5     NaN         DR Sams   \n",
       "1         N         Delhi Capitals  Wickets       8     NaN        MR Marsh   \n",
       "2         N         Gujarat Titans     Runs      62     NaN    Shubman Gill   \n",
       "3         N  Kolkata Knight Riders     Runs      52     NaN       JJ Bumrah   \n",
       "4         N    Chennai Super Kings     Runs      91     NaN       DP Conway   \n",
       "\n",
       "                                        Team1Players  \\\n",
       "0  ['RD Gaikwad', 'DP Conway', 'MM Ali', 'RV Utha...   \n",
       "1  ['YBK Jaiswal', 'JC Buttler', 'R Ashwin', 'D P...   \n",
       "2  ['WP Saha', 'Shubman Gill', 'MS Wade', 'HH Pan...   \n",
       "3  ['VR Iyer', 'AM Rahane', 'N Rana', 'SS Iyer', ...   \n",
       "4  ['RD Gaikwad', 'DP Conway', 'S Dube', 'AT Rayu...   \n",
       "\n",
       "                                        Team2Players                Umpire1  \\\n",
       "0  ['Ishan Kishan', 'RG Sharma', 'DR Sams', 'Tila...  Chirra Ravikanthreddy   \n",
       "1  ['KS Bharat', 'DA Warner', 'MR Marsh', 'RR Pan...          NA Patwardhan   \n",
       "2  ['Q de Kock', 'KL Rahul', 'DJ Hooda', 'KS Shar...  KN Ananthapadmanabhan   \n",
       "3  ['RG Sharma', 'Ishan Kishan', 'Tilak Varma', '...            CB Gaffaney   \n",
       "4  ['DA Warner', 'KS Bharat', 'MR Marsh', 'RR Pan...            Nitin Menon   \n",
       "\n",
       "            Umpire2  \n",
       "0       CB Gaffaney  \n",
       "1       Nitin Menon  \n",
       "2          MA Gough  \n",
       "3  GR Sadashiv Iyer  \n",
       "4          R Pandit  "
      ]
     },
     "execution_count": 4,
     "metadata": {},
     "output_type": "execute_result"
    }
   ],
   "source": [
    "matches_df.head(5)"
   ]
  },
  {
   "cell_type": "code",
   "execution_count": 5,
   "id": "87a90dd0-5cec-4e60-a6c5-103dafbc3205",
   "metadata": {},
   "outputs": [
    {
     "data": {
      "text/html": [
       "<div>\n",
       "<style scoped>\n",
       "    .dataframe tbody tr th:only-of-type {\n",
       "        vertical-align: middle;\n",
       "    }\n",
       "\n",
       "    .dataframe tbody tr th {\n",
       "        vertical-align: top;\n",
       "    }\n",
       "\n",
       "    .dataframe thead th {\n",
       "        text-align: right;\n",
       "    }\n",
       "</style>\n",
       "<table border=\"1\" class=\"dataframe\">\n",
       "  <thead>\n",
       "    <tr style=\"text-align: right;\">\n",
       "      <th></th>\n",
       "      <th>ID</th>\n",
       "      <th>innings</th>\n",
       "      <th>overs</th>\n",
       "      <th>ballnumber</th>\n",
       "      <th>batter</th>\n",
       "      <th>bowler</th>\n",
       "      <th>non-striker</th>\n",
       "      <th>extra_type</th>\n",
       "      <th>batsman_run</th>\n",
       "      <th>extras_run</th>\n",
       "      <th>total_run</th>\n",
       "      <th>non_boundary</th>\n",
       "      <th>isWicketDelivery</th>\n",
       "      <th>player_out</th>\n",
       "      <th>kind</th>\n",
       "      <th>fielders_involved</th>\n",
       "      <th>BattingTeam</th>\n",
       "    </tr>\n",
       "  </thead>\n",
       "  <tbody>\n",
       "    <tr>\n",
       "      <th>0</th>\n",
       "      <td>1304105</td>\n",
       "      <td>1</td>\n",
       "      <td>0</td>\n",
       "      <td>1</td>\n",
       "      <td>RD Gaikwad</td>\n",
       "      <td>DR Sams</td>\n",
       "      <td>DP Conway</td>\n",
       "      <td>NaN</td>\n",
       "      <td>1</td>\n",
       "      <td>0</td>\n",
       "      <td>1</td>\n",
       "      <td>0</td>\n",
       "      <td>0</td>\n",
       "      <td>NaN</td>\n",
       "      <td>NaN</td>\n",
       "      <td>NaN</td>\n",
       "      <td>Chennai Super Kings</td>\n",
       "    </tr>\n",
       "    <tr>\n",
       "      <th>1</th>\n",
       "      <td>1304105</td>\n",
       "      <td>1</td>\n",
       "      <td>0</td>\n",
       "      <td>2</td>\n",
       "      <td>DP Conway</td>\n",
       "      <td>DR Sams</td>\n",
       "      <td>RD Gaikwad</td>\n",
       "      <td>NaN</td>\n",
       "      <td>0</td>\n",
       "      <td>0</td>\n",
       "      <td>0</td>\n",
       "      <td>0</td>\n",
       "      <td>1</td>\n",
       "      <td>DP Conway</td>\n",
       "      <td>lbw</td>\n",
       "      <td>NaN</td>\n",
       "      <td>Chennai Super Kings</td>\n",
       "    </tr>\n",
       "    <tr>\n",
       "      <th>2</th>\n",
       "      <td>1304105</td>\n",
       "      <td>1</td>\n",
       "      <td>0</td>\n",
       "      <td>3</td>\n",
       "      <td>MM Ali</td>\n",
       "      <td>DR Sams</td>\n",
       "      <td>RD Gaikwad</td>\n",
       "      <td>NaN</td>\n",
       "      <td>0</td>\n",
       "      <td>0</td>\n",
       "      <td>0</td>\n",
       "      <td>0</td>\n",
       "      <td>0</td>\n",
       "      <td>NaN</td>\n",
       "      <td>NaN</td>\n",
       "      <td>NaN</td>\n",
       "      <td>Chennai Super Kings</td>\n",
       "    </tr>\n",
       "    <tr>\n",
       "      <th>3</th>\n",
       "      <td>1304105</td>\n",
       "      <td>1</td>\n",
       "      <td>0</td>\n",
       "      <td>4</td>\n",
       "      <td>MM Ali</td>\n",
       "      <td>DR Sams</td>\n",
       "      <td>RD Gaikwad</td>\n",
       "      <td>wides</td>\n",
       "      <td>0</td>\n",
       "      <td>1</td>\n",
       "      <td>1</td>\n",
       "      <td>0</td>\n",
       "      <td>0</td>\n",
       "      <td>NaN</td>\n",
       "      <td>NaN</td>\n",
       "      <td>NaN</td>\n",
       "      <td>Chennai Super Kings</td>\n",
       "    </tr>\n",
       "    <tr>\n",
       "      <th>4</th>\n",
       "      <td>1304105</td>\n",
       "      <td>1</td>\n",
       "      <td>0</td>\n",
       "      <td>5</td>\n",
       "      <td>MM Ali</td>\n",
       "      <td>DR Sams</td>\n",
       "      <td>RD Gaikwad</td>\n",
       "      <td>NaN</td>\n",
       "      <td>0</td>\n",
       "      <td>0</td>\n",
       "      <td>0</td>\n",
       "      <td>0</td>\n",
       "      <td>1</td>\n",
       "      <td>MM Ali</td>\n",
       "      <td>caught</td>\n",
       "      <td>HR Shokeen</td>\n",
       "      <td>Chennai Super Kings</td>\n",
       "    </tr>\n",
       "  </tbody>\n",
       "</table>\n",
       "</div>"
      ],
      "text/plain": [
       "        ID  innings  overs  ballnumber      batter   bowler non-striker  \\\n",
       "0  1304105        1      0           1  RD Gaikwad  DR Sams   DP Conway   \n",
       "1  1304105        1      0           2   DP Conway  DR Sams  RD Gaikwad   \n",
       "2  1304105        1      0           3      MM Ali  DR Sams  RD Gaikwad   \n",
       "3  1304105        1      0           4      MM Ali  DR Sams  RD Gaikwad   \n",
       "4  1304105        1      0           5      MM Ali  DR Sams  RD Gaikwad   \n",
       "\n",
       "  extra_type  batsman_run  extras_run  total_run  non_boundary  \\\n",
       "0        NaN            1           0          1             0   \n",
       "1        NaN            0           0          0             0   \n",
       "2        NaN            0           0          0             0   \n",
       "3      wides            0           1          1             0   \n",
       "4        NaN            0           0          0             0   \n",
       "\n",
       "   isWicketDelivery player_out    kind fielders_involved          BattingTeam  \n",
       "0                 0        NaN     NaN               NaN  Chennai Super Kings  \n",
       "1                 1  DP Conway     lbw               NaN  Chennai Super Kings  \n",
       "2                 0        NaN     NaN               NaN  Chennai Super Kings  \n",
       "3                 0        NaN     NaN               NaN  Chennai Super Kings  \n",
       "4                 1     MM Ali  caught        HR Shokeen  Chennai Super Kings  "
      ]
     },
     "execution_count": 5,
     "metadata": {},
     "output_type": "execute_result"
    }
   ],
   "source": [
    "ball_df.head()"
   ]
  },
  {
   "cell_type": "code",
   "execution_count": 6,
   "id": "59b12540-3d16-4f26-b260-9047f7c6e86e",
   "metadata": {},
   "outputs": [
    {
     "data": {
      "text/html": [
       "<div>\n",
       "<style scoped>\n",
       "    .dataframe tbody tr th:only-of-type {\n",
       "        vertical-align: middle;\n",
       "    }\n",
       "\n",
       "    .dataframe tbody tr th {\n",
       "        vertical-align: top;\n",
       "    }\n",
       "\n",
       "    .dataframe thead th {\n",
       "        text-align: right;\n",
       "    }\n",
       "</style>\n",
       "<table border=\"1\" class=\"dataframe\">\n",
       "  <thead>\n",
       "    <tr style=\"text-align: right;\">\n",
       "      <th></th>\n",
       "      <th>match_id</th>\n",
       "      <th>date</th>\n",
       "      <th>venue</th>\n",
       "      <th>team1</th>\n",
       "      <th>team2</th>\n",
       "      <th>stage</th>\n",
       "      <th>toss_winner</th>\n",
       "      <th>toss_decision</th>\n",
       "      <th>first_ings_score</th>\n",
       "      <th>first_ings_wkts</th>\n",
       "      <th>second_ings_score</th>\n",
       "      <th>second_ings_wkts</th>\n",
       "      <th>match_winner</th>\n",
       "      <th>won_by</th>\n",
       "      <th>margin</th>\n",
       "      <th>player_of_the_match</th>\n",
       "      <th>top_scorer</th>\n",
       "      <th>highscore</th>\n",
       "      <th>best_bowling</th>\n",
       "      <th>best_bowling_figure</th>\n",
       "    </tr>\n",
       "  </thead>\n",
       "  <tbody>\n",
       "    <tr>\n",
       "      <th>0</th>\n",
       "      <td>1</td>\n",
       "      <td>March 26,2022</td>\n",
       "      <td>Wankhede Stadium, Mumbai</td>\n",
       "      <td>Chennai</td>\n",
       "      <td>Kolkata</td>\n",
       "      <td>Group</td>\n",
       "      <td>Kolkata</td>\n",
       "      <td>Field</td>\n",
       "      <td>131</td>\n",
       "      <td>5</td>\n",
       "      <td>133</td>\n",
       "      <td>4</td>\n",
       "      <td>Kolkata</td>\n",
       "      <td>Wickets</td>\n",
       "      <td>6</td>\n",
       "      <td>Umesh Yadav</td>\n",
       "      <td>MS Dhoni</td>\n",
       "      <td>50</td>\n",
       "      <td>Dwayne Bravo</td>\n",
       "      <td>3--20</td>\n",
       "    </tr>\n",
       "    <tr>\n",
       "      <th>1</th>\n",
       "      <td>2</td>\n",
       "      <td>March 27,2022</td>\n",
       "      <td>Brabourne Stadium, Mumbai</td>\n",
       "      <td>Delhi</td>\n",
       "      <td>Mumbai</td>\n",
       "      <td>Group</td>\n",
       "      <td>Delhi</td>\n",
       "      <td>Field</td>\n",
       "      <td>177</td>\n",
       "      <td>5</td>\n",
       "      <td>179</td>\n",
       "      <td>6</td>\n",
       "      <td>Delhi</td>\n",
       "      <td>Wickets</td>\n",
       "      <td>4</td>\n",
       "      <td>Kuldeep Yadav</td>\n",
       "      <td>Ishan Kishan</td>\n",
       "      <td>81</td>\n",
       "      <td>Kuldeep Yadav</td>\n",
       "      <td>3--18</td>\n",
       "    </tr>\n",
       "    <tr>\n",
       "      <th>2</th>\n",
       "      <td>3</td>\n",
       "      <td>March 27,2022</td>\n",
       "      <td>Dr DY Patil Sports Academy, Mumbai</td>\n",
       "      <td>Banglore</td>\n",
       "      <td>Punjab</td>\n",
       "      <td>Group</td>\n",
       "      <td>Punjab</td>\n",
       "      <td>Field</td>\n",
       "      <td>205</td>\n",
       "      <td>2</td>\n",
       "      <td>208</td>\n",
       "      <td>5</td>\n",
       "      <td>Punjab</td>\n",
       "      <td>Wickets</td>\n",
       "      <td>5</td>\n",
       "      <td>Odean Smith</td>\n",
       "      <td>Faf du Plessis</td>\n",
       "      <td>88</td>\n",
       "      <td>Mohammed Siraj</td>\n",
       "      <td>2--59</td>\n",
       "    </tr>\n",
       "    <tr>\n",
       "      <th>3</th>\n",
       "      <td>4</td>\n",
       "      <td>March 28,2022</td>\n",
       "      <td>Wankhede Stadium, Mumbai</td>\n",
       "      <td>Gujarat</td>\n",
       "      <td>Lucknow</td>\n",
       "      <td>Group</td>\n",
       "      <td>Gujarat</td>\n",
       "      <td>Field</td>\n",
       "      <td>158</td>\n",
       "      <td>6</td>\n",
       "      <td>161</td>\n",
       "      <td>5</td>\n",
       "      <td>Gujarat</td>\n",
       "      <td>Wickets</td>\n",
       "      <td>5</td>\n",
       "      <td>Mohammed Shami</td>\n",
       "      <td>Deepak Hooda</td>\n",
       "      <td>55</td>\n",
       "      <td>Mohammed Shami</td>\n",
       "      <td>3--25</td>\n",
       "    </tr>\n",
       "    <tr>\n",
       "      <th>4</th>\n",
       "      <td>5</td>\n",
       "      <td>March 29,2022</td>\n",
       "      <td>Maharashtra Cricket Association Stadium,Pune</td>\n",
       "      <td>Hyderabad</td>\n",
       "      <td>Rajasthan</td>\n",
       "      <td>Group</td>\n",
       "      <td>Hyderabad</td>\n",
       "      <td>Field</td>\n",
       "      <td>210</td>\n",
       "      <td>6</td>\n",
       "      <td>149</td>\n",
       "      <td>7</td>\n",
       "      <td>Rajasthan</td>\n",
       "      <td>Runs</td>\n",
       "      <td>61</td>\n",
       "      <td>Sanju Samson</td>\n",
       "      <td>Aiden Markram</td>\n",
       "      <td>57</td>\n",
       "      <td>Yuzvendra Chahal</td>\n",
       "      <td>3--22</td>\n",
       "    </tr>\n",
       "  </tbody>\n",
       "</table>\n",
       "</div>"
      ],
      "text/plain": [
       "   match_id           date                                         venue  \\\n",
       "0         1  March 26,2022                      Wankhede Stadium, Mumbai   \n",
       "1         2  March 27,2022                     Brabourne Stadium, Mumbai   \n",
       "2         3  March 27,2022            Dr DY Patil Sports Academy, Mumbai   \n",
       "3         4  March 28,2022                      Wankhede Stadium, Mumbai   \n",
       "4         5  March 29,2022  Maharashtra Cricket Association Stadium,Pune   \n",
       "\n",
       "       team1      team2  stage toss_winner toss_decision  first_ings_score  \\\n",
       "0    Chennai    Kolkata  Group     Kolkata         Field               131   \n",
       "1      Delhi     Mumbai  Group       Delhi         Field               177   \n",
       "2   Banglore     Punjab  Group      Punjab         Field               205   \n",
       "3    Gujarat    Lucknow  Group     Gujarat         Field               158   \n",
       "4  Hyderabad  Rajasthan  Group   Hyderabad         Field               210   \n",
       "\n",
       "   first_ings_wkts  second_ings_score  second_ings_wkts match_winner   won_by  \\\n",
       "0                5                133                 4      Kolkata  Wickets   \n",
       "1                5                179                 6        Delhi  Wickets   \n",
       "2                2                208                 5       Punjab  Wickets   \n",
       "3                6                161                 5      Gujarat  Wickets   \n",
       "4                6                149                 7    Rajasthan     Runs   \n",
       "\n",
       "   margin player_of_the_match      top_scorer  highscore      best_bowling  \\\n",
       "0       6         Umesh Yadav        MS Dhoni         50      Dwayne Bravo   \n",
       "1       4       Kuldeep Yadav    Ishan Kishan         81     Kuldeep Yadav   \n",
       "2       5         Odean Smith  Faf du Plessis         88    Mohammed Siraj   \n",
       "3       5      Mohammed Shami    Deepak Hooda         55    Mohammed Shami   \n",
       "4      61        Sanju Samson   Aiden Markram         57  Yuzvendra Chahal   \n",
       "\n",
       "  best_bowling_figure  \n",
       "0               3--20  \n",
       "1               3--18  \n",
       "2               2--59  \n",
       "3               3--25  \n",
       "4               3--22  "
      ]
     },
     "execution_count": 6,
     "metadata": {},
     "output_type": "execute_result"
    }
   ],
   "source": [
    "match.head()"
   ]
  },
  {
   "cell_type": "markdown",
   "id": "914d8b3c-2192-45e9-a9a0-4e1b21369c85",
   "metadata": {},
   "source": [
    "# Data cleaning"
   ]
  },
  {
   "cell_type": "code",
   "execution_count": 7,
   "id": "499887b1-bb4c-4dba-9295-df7dcea8a6af",
   "metadata": {},
   "outputs": [
    {
     "data": {
      "text/plain": [
       "(59, 20)"
      ]
     },
     "execution_count": 7,
     "metadata": {},
     "output_type": "execute_result"
    }
   ],
   "source": [
    "matches_df.shape"
   ]
  },
  {
   "cell_type": "code",
   "execution_count": 9,
   "id": "f4b71d8b-06ce-47a7-aa82-b71da63bb54f",
   "metadata": {},
   "outputs": [
    {
     "data": {
      "text/plain": [
       "(14233, 17)"
      ]
     },
     "execution_count": 9,
     "metadata": {},
     "output_type": "execute_result"
    }
   ],
   "source": [
    "ball_df.shape"
   ]
  },
  {
   "cell_type": "code",
   "execution_count": 11,
   "id": "d5cadd85-8c8f-4494-890c-3d8af9626fef",
   "metadata": {},
   "outputs": [
    {
     "data": {
      "text/plain": [
       "(71, 20)"
      ]
     },
     "execution_count": 11,
     "metadata": {},
     "output_type": "execute_result"
    }
   ],
   "source": [
    "match.shape"
   ]
  },
  {
   "cell_type": "markdown",
   "id": "97c97bd3-303e-468e-9b0f-dc064ae690d6",
   "metadata": {},
   "source": [
    "# analizing null values"
   ]
  },
  {
   "cell_type": "code",
   "execution_count": 12,
   "id": "bdc139e1-4345-4bb7-851f-71707a109431",
   "metadata": {},
   "outputs": [
    {
     "name": "stdout",
     "output_type": "stream",
     "text": [
      "<class 'pandas.core.frame.DataFrame'>\n",
      "RangeIndex: 59 entries, 0 to 58\n",
      "Data columns (total 20 columns):\n",
      " #   Column           Non-Null Count  Dtype  \n",
      "---  ------           --------------  -----  \n",
      " 0   ID               59 non-null     int64  \n",
      " 1   City             59 non-null     object \n",
      " 2   Date             59 non-null     object \n",
      " 3   Season           59 non-null     int64  \n",
      " 4   MatchNumber      59 non-null     int64  \n",
      " 5   Team1            59 non-null     object \n",
      " 6   Team2            59 non-null     object \n",
      " 7   Venue            59 non-null     object \n",
      " 8   TossWinner       59 non-null     object \n",
      " 9   TossDecision     59 non-null     object \n",
      " 10  SuperOver        59 non-null     object \n",
      " 11  WinningTeam      59 non-null     object \n",
      " 12  WonBy            59 non-null     object \n",
      " 13  Margin           59 non-null     int64  \n",
      " 14  method           0 non-null      float64\n",
      " 15  Player_of_Match  59 non-null     object \n",
      " 16  Team1Players     59 non-null     object \n",
      " 17  Team2Players     59 non-null     object \n",
      " 18  Umpire1          59 non-null     object \n",
      " 19  Umpire2          59 non-null     object \n",
      "dtypes: float64(1), int64(4), object(15)\n",
      "memory usage: 9.3+ KB\n"
     ]
    }
   ],
   "source": [
    "matches_df.info()"
   ]
  },
  {
   "cell_type": "code",
   "execution_count": 16,
   "id": "869b49ba-097c-450b-a7d7-f9fa99018569",
   "metadata": {},
   "outputs": [],
   "source": [
    "matches_df.drop(['method'], axis=1, inplace=True)"
   ]
  },
  {
   "cell_type": "code",
   "execution_count": 17,
   "id": "4c90cb43-c7a9-48ab-8a32-d9560ba2febb",
   "metadata": {},
   "outputs": [
    {
     "name": "stdout",
     "output_type": "stream",
     "text": [
      "<class 'pandas.core.frame.DataFrame'>\n",
      "RangeIndex: 59 entries, 0 to 58\n",
      "Data columns (total 19 columns):\n",
      " #   Column           Non-Null Count  Dtype \n",
      "---  ------           --------------  ----- \n",
      " 0   ID               59 non-null     int64 \n",
      " 1   City             59 non-null     object\n",
      " 2   Date             59 non-null     object\n",
      " 3   Season           59 non-null     int64 \n",
      " 4   MatchNumber      59 non-null     int64 \n",
      " 5   Team1            59 non-null     object\n",
      " 6   Team2            59 non-null     object\n",
      " 7   Venue            59 non-null     object\n",
      " 8   TossWinner       59 non-null     object\n",
      " 9   TossDecision     59 non-null     object\n",
      " 10  SuperOver        59 non-null     object\n",
      " 11  WinningTeam      59 non-null     object\n",
      " 12  WonBy            59 non-null     object\n",
      " 13  Margin           59 non-null     int64 \n",
      " 14  Player_of_Match  59 non-null     object\n",
      " 15  Team1Players     59 non-null     object\n",
      " 16  Team2Players     59 non-null     object\n",
      " 17  Umpire1          59 non-null     object\n",
      " 18  Umpire2          59 non-null     object\n",
      "dtypes: int64(4), object(15)\n",
      "memory usage: 8.9+ KB\n"
     ]
    }
   ],
   "source": [
    "matches_df.info()"
   ]
  },
  {
   "cell_type": "code",
   "execution_count": 15,
   "id": "61aacdd2-7a59-48ec-a45d-0e9b53f063b0",
   "metadata": {},
   "outputs": [
    {
     "name": "stdout",
     "output_type": "stream",
     "text": [
      "<class 'pandas.core.frame.DataFrame'>\n",
      "RangeIndex: 14233 entries, 0 to 14232\n",
      "Data columns (total 17 columns):\n",
      " #   Column             Non-Null Count  Dtype \n",
      "---  ------             --------------  ----- \n",
      " 0   ID                 14233 non-null  int64 \n",
      " 1   innings            14233 non-null  int64 \n",
      " 2   overs              14233 non-null  int64 \n",
      " 3   ballnumber         14233 non-null  int64 \n",
      " 4   batter             14233 non-null  object\n",
      " 5   bowler             14233 non-null  object\n",
      " 6   non-striker        14233 non-null  object\n",
      " 7   extra_type         844 non-null    object\n",
      " 8   batsman_run        14233 non-null  int64 \n",
      " 9   extras_run         14233 non-null  int64 \n",
      " 10  total_run          14233 non-null  int64 \n",
      " 11  non_boundary       14233 non-null  int64 \n",
      " 12  isWicketDelivery   14233 non-null  int64 \n",
      " 13  player_out         736 non-null    object\n",
      " 14  kind               736 non-null    object\n",
      " 15  fielders_involved  564 non-null    object\n",
      " 16  BattingTeam        14233 non-null  object\n",
      "dtypes: int64(9), object(8)\n",
      "memory usage: 1.8+ MB\n"
     ]
    }
   ],
   "source": [
    "ball_df.info()"
   ]
  },
  {
   "cell_type": "code",
   "execution_count": 18,
   "id": "a56852c4-926d-4cab-88e6-e779e626adbd",
   "metadata": {},
   "outputs": [
    {
     "name": "stderr",
     "output_type": "stream",
     "text": [
      "C:\\Users\\gauri\\AppData\\Local\\Temp\\ipykernel_2352\\1476798216.py:1: FutureWarning: A value is trying to be set on a copy of a DataFrame or Series through chained assignment using an inplace method.\n",
      "The behavior will change in pandas 3.0. This inplace method will never work because the intermediate object on which we are setting values always behaves as a copy.\n",
      "\n",
      "For example, when doing 'df[col].method(value, inplace=True)', try using 'df.method({col: value}, inplace=True)' or df[col] = df[col].method(value) instead, to perform the operation inplace on the original object.\n",
      "\n",
      "\n",
      "  ball_df['extra_type'].fillna('Normal Dilevery', inplace=True)\n",
      "C:\\Users\\gauri\\AppData\\Local\\Temp\\ipykernel_2352\\1476798216.py:2: FutureWarning: A value is trying to be set on a copy of a DataFrame or Series through chained assignment using an inplace method.\n",
      "The behavior will change in pandas 3.0. This inplace method will never work because the intermediate object on which we are setting values always behaves as a copy.\n",
      "\n",
      "For example, when doing 'df[col].method(value, inplace=True)', try using 'df.method({col: value}, inplace=True)' or df[col] = df[col].method(value) instead, to perform the operation inplace on the original object.\n",
      "\n",
      "\n",
      "  ball_df['player_out'].fillna('on one out', inplace=True)\n",
      "C:\\Users\\gauri\\AppData\\Local\\Temp\\ipykernel_2352\\1476798216.py:3: FutureWarning: A value is trying to be set on a copy of a DataFrame or Series through chained assignment using an inplace method.\n",
      "The behavior will change in pandas 3.0. This inplace method will never work because the intermediate object on which we are setting values always behaves as a copy.\n",
      "\n",
      "For example, when doing 'df[col].method(value, inplace=True)', try using 'df.method({col: value}, inplace=True)' or df[col] = df[col].method(value) instead, to perform the operation inplace on the original object.\n",
      "\n",
      "\n",
      "  ball_df['kind'].fillna(0,inplace=True)\n",
      "C:\\Users\\gauri\\AppData\\Local\\Temp\\ipykernel_2352\\1476798216.py:4: FutureWarning: A value is trying to be set on a copy of a DataFrame or Series through chained assignment using an inplace method.\n",
      "The behavior will change in pandas 3.0. This inplace method will never work because the intermediate object on which we are setting values always behaves as a copy.\n",
      "\n",
      "For example, when doing 'df[col].method(value, inplace=True)', try using 'df.method({col: value}, inplace=True)' or df[col] = df[col].method(value) instead, to perform the operation inplace on the original object.\n",
      "\n",
      "\n",
      "  ball_df['fielders_involved'].fillna(0, inplace= True)\n"
     ]
    }
   ],
   "source": [
    "ball_df['extra_type'].fillna('Normal Dilevery', inplace=True)\n",
    "ball_df['player_out'].fillna('on one out', inplace=True)\n",
    "ball_df['kind'].fillna(0,inplace=True)\n",
    "ball_df['fielders_involved'].fillna(0, inplace= True)"
   ]
  },
  {
   "cell_type": "code",
   "execution_count": 19,
   "id": "1ef63c04-5e93-403e-8e0e-7a18ead8c439",
   "metadata": {},
   "outputs": [
    {
     "name": "stdout",
     "output_type": "stream",
     "text": [
      "<class 'pandas.core.frame.DataFrame'>\n",
      "RangeIndex: 14233 entries, 0 to 14232\n",
      "Data columns (total 17 columns):\n",
      " #   Column             Non-Null Count  Dtype \n",
      "---  ------             --------------  ----- \n",
      " 0   ID                 14233 non-null  int64 \n",
      " 1   innings            14233 non-null  int64 \n",
      " 2   overs              14233 non-null  int64 \n",
      " 3   ballnumber         14233 non-null  int64 \n",
      " 4   batter             14233 non-null  object\n",
      " 5   bowler             14233 non-null  object\n",
      " 6   non-striker        14233 non-null  object\n",
      " 7   extra_type         14233 non-null  object\n",
      " 8   batsman_run        14233 non-null  int64 \n",
      " 9   extras_run         14233 non-null  int64 \n",
      " 10  total_run          14233 non-null  int64 \n",
      " 11  non_boundary       14233 non-null  int64 \n",
      " 12  isWicketDelivery   14233 non-null  int64 \n",
      " 13  player_out         14233 non-null  object\n",
      " 14  kind               14233 non-null  object\n",
      " 15  fielders_involved  14233 non-null  object\n",
      " 16  BattingTeam        14233 non-null  object\n",
      "dtypes: int64(9), object(8)\n",
      "memory usage: 1.8+ MB\n"
     ]
    }
   ],
   "source": [
    "ball_df.info()"
   ]
  },
  {
   "cell_type": "code",
   "execution_count": 20,
   "id": "02115336-e9ec-4b4b-9940-b112fd74baf2",
   "metadata": {},
   "outputs": [
    {
     "name": "stdout",
     "output_type": "stream",
     "text": [
      "<class 'pandas.core.frame.DataFrame'>\n",
      "RangeIndex: 71 entries, 0 to 70\n",
      "Data columns (total 20 columns):\n",
      " #   Column               Non-Null Count  Dtype \n",
      "---  ------               --------------  ----- \n",
      " 0   match_id             71 non-null     int64 \n",
      " 1   date                 71 non-null     object\n",
      " 2   venue                71 non-null     object\n",
      " 3   team1                71 non-null     object\n",
      " 4   team2                71 non-null     object\n",
      " 5   stage                71 non-null     object\n",
      " 6   toss_winner          71 non-null     object\n",
      " 7   toss_decision        71 non-null     object\n",
      " 8   first_ings_score     71 non-null     int64 \n",
      " 9   first_ings_wkts      71 non-null     int64 \n",
      " 10  second_ings_score    71 non-null     int64 \n",
      " 11  second_ings_wkts     71 non-null     int64 \n",
      " 12  match_winner         71 non-null     object\n",
      " 13  won_by               71 non-null     object\n",
      " 14  margin               71 non-null     int64 \n",
      " 15  player_of_the_match  70 non-null     object\n",
      " 16  top_scorer           71 non-null     object\n",
      " 17  highscore            71 non-null     int64 \n",
      " 18  best_bowling         71 non-null     object\n",
      " 19  best_bowling_figure  71 non-null     object\n",
      "dtypes: int64(7), object(13)\n",
      "memory usage: 11.2+ KB\n"
     ]
    }
   ],
   "source": [
    "match.info()"
   ]
  },
  {
   "cell_type": "code",
   "execution_count": 21,
   "id": "7b867e33-de05-43b6-b952-a3bf60bc5771",
   "metadata": {},
   "outputs": [
    {
     "name": "stderr",
     "output_type": "stream",
     "text": [
      "C:\\Users\\gauri\\AppData\\Local\\Temp\\ipykernel_2352\\2776900396.py:1: FutureWarning: A value is trying to be set on a copy of a DataFrame or Series through chained assignment using an inplace method.\n",
      "The behavior will change in pandas 3.0. This inplace method will never work because the intermediate object on which we are setting values always behaves as a copy.\n",
      "\n",
      "For example, when doing 'df[col].method(value, inplace=True)', try using 'df.method({col: value}, inplace=True)' or df[col] = df[col].method(value) instead, to perform the operation inplace on the original object.\n",
      "\n",
      "\n",
      "  match['player_of_the_match'].fillna('no one', inplace=True)\n"
     ]
    }
   ],
   "source": [
    "match['player_of_the_match'].fillna('no one', inplace=True)"
   ]
  },
  {
   "cell_type": "code",
   "execution_count": 22,
   "id": "78893c9f-47b0-4ebb-8e39-911edf98dfd0",
   "metadata": {},
   "outputs": [
    {
     "name": "stdout",
     "output_type": "stream",
     "text": [
      "<class 'pandas.core.frame.DataFrame'>\n",
      "RangeIndex: 71 entries, 0 to 70\n",
      "Data columns (total 20 columns):\n",
      " #   Column               Non-Null Count  Dtype \n",
      "---  ------               --------------  ----- \n",
      " 0   match_id             71 non-null     int64 \n",
      " 1   date                 71 non-null     object\n",
      " 2   venue                71 non-null     object\n",
      " 3   team1                71 non-null     object\n",
      " 4   team2                71 non-null     object\n",
      " 5   stage                71 non-null     object\n",
      " 6   toss_winner          71 non-null     object\n",
      " 7   toss_decision        71 non-null     object\n",
      " 8   first_ings_score     71 non-null     int64 \n",
      " 9   first_ings_wkts      71 non-null     int64 \n",
      " 10  second_ings_score    71 non-null     int64 \n",
      " 11  second_ings_wkts     71 non-null     int64 \n",
      " 12  match_winner         71 non-null     object\n",
      " 13  won_by               71 non-null     object\n",
      " 14  margin               71 non-null     int64 \n",
      " 15  player_of_the_match  71 non-null     object\n",
      " 16  top_scorer           71 non-null     object\n",
      " 17  highscore            71 non-null     int64 \n",
      " 18  best_bowling         71 non-null     object\n",
      " 19  best_bowling_figure  71 non-null     object\n",
      "dtypes: int64(7), object(13)\n",
      "memory usage: 11.2+ KB\n"
     ]
    }
   ],
   "source": [
    "match.info()"
   ]
  },
  {
   "cell_type": "markdown",
   "id": "97fc2a8f-f58f-469c-9ab0-41d6d0e9e844",
   "metadata": {},
   "source": [
    "# WORKING ON QUESTIONS ALNAYSING AND THEIR SOLUTION"
   ]
  },
  {
   "cell_type": "markdown",
   "id": "27b2a84c-f29d-430f-9e35-94f410e532e8",
   "metadata": {},
   "source": [
    "# Batting"
   ]
  },
  {
   "cell_type": "markdown",
   "id": "401ee196-f10d-417e-856e-61b491dd0b26",
   "metadata": {},
   "source": [
    "# 1.HIGHEST SCRORER BATTER IN IN OVERALL IPL 2022"
   ]
  },
  {
   "cell_type": "code",
   "execution_count": 25,
   "id": "a6e9a1a4-1bfd-47a7-a390-c968c02b4cfa",
   "metadata": {},
   "outputs": [
    {
     "data": {
      "text/html": [
       "<div>\n",
       "<style scoped>\n",
       "    .dataframe tbody tr th:only-of-type {\n",
       "        vertical-align: middle;\n",
       "    }\n",
       "\n",
       "    .dataframe tbody tr th {\n",
       "        vertical-align: top;\n",
       "    }\n",
       "\n",
       "    .dataframe thead th {\n",
       "        text-align: right;\n",
       "    }\n",
       "</style>\n",
       "<table border=\"1\" class=\"dataframe\">\n",
       "  <thead>\n",
       "    <tr style=\"text-align: right;\">\n",
       "      <th></th>\n",
       "      <th>ID</th>\n",
       "      <th>innings</th>\n",
       "      <th>overs</th>\n",
       "      <th>ballnumber</th>\n",
       "      <th>batsman_run</th>\n",
       "      <th>extras_run</th>\n",
       "      <th>total_run</th>\n",
       "      <th>non_boundary</th>\n",
       "      <th>isWicketDelivery</th>\n",
       "    </tr>\n",
       "    <tr>\n",
       "      <th>batter</th>\n",
       "      <th></th>\n",
       "      <th></th>\n",
       "      <th></th>\n",
       "      <th></th>\n",
       "      <th></th>\n",
       "      <th></th>\n",
       "      <th></th>\n",
       "      <th></th>\n",
       "      <th></th>\n",
       "    </tr>\n",
       "  </thead>\n",
       "  <tbody>\n",
       "    <tr>\n",
       "      <th>JC Buttler</th>\n",
       "      <td>560751651</td>\n",
       "      <td>470</td>\n",
       "      <td>2778</td>\n",
       "      <td>1538</td>\n",
       "      <td>625</td>\n",
       "      <td>22</td>\n",
       "      <td>647</td>\n",
       "      <td>1</td>\n",
       "      <td>11</td>\n",
       "    </tr>\n",
       "  </tbody>\n",
       "</table>\n",
       "</div>"
      ],
      "text/plain": [
       "                   ID  innings  overs  ballnumber  batsman_run  extras_run  \\\n",
       "batter                                                                       \n",
       "JC Buttler  560751651      470   2778        1538          625          22   \n",
       "\n",
       "            total_run  non_boundary  isWicketDelivery  \n",
       "batter                                                 \n",
       "JC Buttler        647             1                11  "
      ]
     },
     "execution_count": 25,
     "metadata": {},
     "output_type": "execute_result"
    }
   ],
   "source": [
    "ball_df.groupby('batter').sum('batsman_run').sort_values(['batsman_run'],ascending=False).head(1)"
   ]
  },
  {
   "cell_type": "markdown",
   "id": "fee05a80-0113-4567-864c-38acde54c0c7",
   "metadata": {},
   "source": [
    "# 2.LOWEST SCRORER BATTERS IN IN OVERALL IPL 2022"
   ]
  },
  {
   "cell_type": "code",
   "execution_count": 26,
   "id": "9cc525b3-d8d9-40f0-9939-483992cc0e2d",
   "metadata": {},
   "outputs": [
    {
     "data": {
      "text/html": [
       "<div>\n",
       "<style scoped>\n",
       "    .dataframe tbody tr th:only-of-type {\n",
       "        vertical-align: middle;\n",
       "    }\n",
       "\n",
       "    .dataframe tbody tr th {\n",
       "        vertical-align: top;\n",
       "    }\n",
       "\n",
       "    .dataframe thead th {\n",
       "        text-align: right;\n",
       "    }\n",
       "</style>\n",
       "<table border=\"1\" class=\"dataframe\">\n",
       "  <thead>\n",
       "    <tr style=\"text-align: right;\">\n",
       "      <th></th>\n",
       "      <th>ID</th>\n",
       "      <th>innings</th>\n",
       "      <th>overs</th>\n",
       "      <th>ballnumber</th>\n",
       "      <th>batsman_run</th>\n",
       "      <th>extras_run</th>\n",
       "      <th>total_run</th>\n",
       "      <th>non_boundary</th>\n",
       "      <th>isWicketDelivery</th>\n",
       "    </tr>\n",
       "    <tr>\n",
       "      <th>batter</th>\n",
       "      <th></th>\n",
       "      <th></th>\n",
       "      <th></th>\n",
       "      <th></th>\n",
       "      <th></th>\n",
       "      <th></th>\n",
       "      <th></th>\n",
       "      <th></th>\n",
       "      <th></th>\n",
       "    </tr>\n",
       "  </thead>\n",
       "  <tbody>\n",
       "    <tr>\n",
       "      <th>K Gowtham</th>\n",
       "      <td>2608132</td>\n",
       "      <td>4</td>\n",
       "      <td>0</td>\n",
       "      <td>5</td>\n",
       "      <td>0</td>\n",
       "      <td>1</td>\n",
       "      <td>1</td>\n",
       "      <td>0</td>\n",
       "      <td>1</td>\n",
       "    </tr>\n",
       "    <tr>\n",
       "      <th>KK Ahmed</th>\n",
       "      <td>2608157</td>\n",
       "      <td>4</td>\n",
       "      <td>34</td>\n",
       "      <td>7</td>\n",
       "      <td>0</td>\n",
       "      <td>0</td>\n",
       "      <td>0</td>\n",
       "      <td>0</td>\n",
       "      <td>2</td>\n",
       "    </tr>\n",
       "    <tr>\n",
       "      <th>JJ Bumrah</th>\n",
       "      <td>6520359</td>\n",
       "      <td>10</td>\n",
       "      <td>94</td>\n",
       "      <td>32</td>\n",
       "      <td>0</td>\n",
       "      <td>1</td>\n",
       "      <td>1</td>\n",
       "      <td>0</td>\n",
       "      <td>1</td>\n",
       "    </tr>\n",
       "    <tr>\n",
       "      <th>KR Sen</th>\n",
       "      <td>3912210</td>\n",
       "      <td>6</td>\n",
       "      <td>57</td>\n",
       "      <td>15</td>\n",
       "      <td>0</td>\n",
       "      <td>0</td>\n",
       "      <td>0</td>\n",
       "      <td>0</td>\n",
       "      <td>0</td>\n",
       "    </tr>\n",
       "    <tr>\n",
       "      <th>Akash Deep</th>\n",
       "      <td>2608136</td>\n",
       "      <td>4</td>\n",
       "      <td>30</td>\n",
       "      <td>7</td>\n",
       "      <td>0</td>\n",
       "      <td>0</td>\n",
       "      <td>0</td>\n",
       "      <td>0</td>\n",
       "      <td>1</td>\n",
       "    </tr>\n",
       "    <tr>\n",
       "      <th>Ravi Bishnoi</th>\n",
       "      <td>1304077</td>\n",
       "      <td>2</td>\n",
       "      <td>19</td>\n",
       "      <td>6</td>\n",
       "      <td>0</td>\n",
       "      <td>0</td>\n",
       "      <td>0</td>\n",
       "      <td>0</td>\n",
       "      <td>0</td>\n",
       "    </tr>\n",
       "    <tr>\n",
       "      <th>NT Ellis</th>\n",
       "      <td>2608156</td>\n",
       "      <td>2</td>\n",
       "      <td>26</td>\n",
       "      <td>11</td>\n",
       "      <td>0</td>\n",
       "      <td>0</td>\n",
       "      <td>0</td>\n",
       "      <td>0</td>\n",
       "      <td>1</td>\n",
       "    </tr>\n",
       "    <tr>\n",
       "      <th>TS Mills</th>\n",
       "      <td>3912210</td>\n",
       "      <td>6</td>\n",
       "      <td>57</td>\n",
       "      <td>19</td>\n",
       "      <td>0</td>\n",
       "      <td>0</td>\n",
       "      <td>0</td>\n",
       "      <td>0</td>\n",
       "      <td>1</td>\n",
       "    </tr>\n",
       "    <tr>\n",
       "      <th>T Stubbs</th>\n",
       "      <td>2608210</td>\n",
       "      <td>4</td>\n",
       "      <td>8</td>\n",
       "      <td>11</td>\n",
       "      <td>0</td>\n",
       "      <td>0</td>\n",
       "      <td>0</td>\n",
       "      <td>0</td>\n",
       "      <td>1</td>\n",
       "    </tr>\n",
       "    <tr>\n",
       "      <th>RP Meredith</th>\n",
       "      <td>1304102</td>\n",
       "      <td>2</td>\n",
       "      <td>17</td>\n",
       "      <td>3</td>\n",
       "      <td>0</td>\n",
       "      <td>0</td>\n",
       "      <td>0</td>\n",
       "      <td>0</td>\n",
       "      <td>1</td>\n",
       "    </tr>\n",
       "    <tr>\n",
       "      <th>AS Roy</th>\n",
       "      <td>2608198</td>\n",
       "      <td>4</td>\n",
       "      <td>24</td>\n",
       "      <td>7</td>\n",
       "      <td>0</td>\n",
       "      <td>0</td>\n",
       "      <td>0</td>\n",
       "      <td>0</td>\n",
       "      <td>1</td>\n",
       "    </tr>\n",
       "    <tr>\n",
       "      <th>Yash Dayal</th>\n",
       "      <td>1304081</td>\n",
       "      <td>1</td>\n",
       "      <td>19</td>\n",
       "      <td>6</td>\n",
       "      <td>0</td>\n",
       "      <td>0</td>\n",
       "      <td>0</td>\n",
       "      <td>0</td>\n",
       "      <td>1</td>\n",
       "    </tr>\n",
       "  </tbody>\n",
       "</table>\n",
       "</div>"
      ],
      "text/plain": [
       "                   ID  innings  overs  ballnumber  batsman_run  extras_run  \\\n",
       "batter                                                                       \n",
       "K Gowtham     2608132        4      0           5            0           1   \n",
       "KK Ahmed      2608157        4     34           7            0           0   \n",
       "JJ Bumrah     6520359       10     94          32            0           1   \n",
       "KR Sen        3912210        6     57          15            0           0   \n",
       "Akash Deep    2608136        4     30           7            0           0   \n",
       "Ravi Bishnoi  1304077        2     19           6            0           0   \n",
       "NT Ellis      2608156        2     26          11            0           0   \n",
       "TS Mills      3912210        6     57          19            0           0   \n",
       "T Stubbs      2608210        4      8          11            0           0   \n",
       "RP Meredith   1304102        2     17           3            0           0   \n",
       "AS Roy        2608198        4     24           7            0           0   \n",
       "Yash Dayal    1304081        1     19           6            0           0   \n",
       "\n",
       "              total_run  non_boundary  isWicketDelivery  \n",
       "batter                                                   \n",
       "K Gowtham             1             0                 1  \n",
       "KK Ahmed              0             0                 2  \n",
       "JJ Bumrah             1             0                 1  \n",
       "KR Sen                0             0                 0  \n",
       "Akash Deep            0             0                 1  \n",
       "Ravi Bishnoi          0             0                 0  \n",
       "NT Ellis              0             0                 1  \n",
       "TS Mills              0             0                 1  \n",
       "T Stubbs              0             0                 1  \n",
       "RP Meredith           0             0                 1  \n",
       "AS Roy                0             0                 1  \n",
       "Yash Dayal            0             0                 1  "
      ]
     },
     "execution_count": 26,
     "metadata": {},
     "output_type": "execute_result"
    }
   ],
   "source": [
    "ball_df.groupby('batter').sum('batsman_run').sort_values(['batsman_run'],ascending=False).tail(12)"
   ]
  },
  {
   "cell_type": "markdown",
   "id": "b974dcf6-4bd0-4fa8-b86f-e9620c5f2ed8",
   "metadata": {},
   "source": [
    "# BOWLING\n",
    "# 1.BOWLER WHO TAKES HIGHEST NUMBER OF WICKETS OVER ALL IPL"
   ]
  },
  {
   "cell_type": "code",
   "execution_count": 37,
   "id": "120de9ed-b392-4142-97de-5124defc66a6",
   "metadata": {},
   "outputs": [
    {
     "data": {
      "text/html": [
       "<div>\n",
       "<style scoped>\n",
       "    .dataframe tbody tr th:only-of-type {\n",
       "        vertical-align: middle;\n",
       "    }\n",
       "\n",
       "    .dataframe tbody tr th {\n",
       "        vertical-align: top;\n",
       "    }\n",
       "\n",
       "    .dataframe thead th {\n",
       "        text-align: right;\n",
       "    }\n",
       "</style>\n",
       "<table border=\"1\" class=\"dataframe\">\n",
       "  <thead>\n",
       "    <tr style=\"text-align: right;\">\n",
       "      <th></th>\n",
       "      <th>ID</th>\n",
       "      <th>innings</th>\n",
       "      <th>overs</th>\n",
       "      <th>ballnumber</th>\n",
       "      <th>batter</th>\n",
       "      <th>bowler</th>\n",
       "      <th>non-striker</th>\n",
       "      <th>extra_type</th>\n",
       "      <th>batsman_run</th>\n",
       "      <th>extras_run</th>\n",
       "      <th>total_run</th>\n",
       "      <th>non_boundary</th>\n",
       "      <th>isWicketDelivery</th>\n",
       "      <th>player_out</th>\n",
       "      <th>kind</th>\n",
       "      <th>fielders_involved</th>\n",
       "      <th>BattingTeam</th>\n",
       "    </tr>\n",
       "  </thead>\n",
       "  <tbody>\n",
       "    <tr>\n",
       "      <th>0</th>\n",
       "      <td>1304105</td>\n",
       "      <td>1</td>\n",
       "      <td>0</td>\n",
       "      <td>1</td>\n",
       "      <td>RD Gaikwad</td>\n",
       "      <td>DR Sams</td>\n",
       "      <td>DP Conway</td>\n",
       "      <td>Normal Dilevery</td>\n",
       "      <td>1</td>\n",
       "      <td>0</td>\n",
       "      <td>1</td>\n",
       "      <td>0</td>\n",
       "      <td>0</td>\n",
       "      <td>on one out</td>\n",
       "      <td>0</td>\n",
       "      <td>0</td>\n",
       "      <td>Chennai Super Kings</td>\n",
       "    </tr>\n",
       "    <tr>\n",
       "      <th>1</th>\n",
       "      <td>1304105</td>\n",
       "      <td>1</td>\n",
       "      <td>0</td>\n",
       "      <td>2</td>\n",
       "      <td>DP Conway</td>\n",
       "      <td>DR Sams</td>\n",
       "      <td>RD Gaikwad</td>\n",
       "      <td>Normal Dilevery</td>\n",
       "      <td>0</td>\n",
       "      <td>0</td>\n",
       "      <td>0</td>\n",
       "      <td>0</td>\n",
       "      <td>1</td>\n",
       "      <td>DP Conway</td>\n",
       "      <td>lbw</td>\n",
       "      <td>0</td>\n",
       "      <td>Chennai Super Kings</td>\n",
       "    </tr>\n",
       "    <tr>\n",
       "      <th>2</th>\n",
       "      <td>1304105</td>\n",
       "      <td>1</td>\n",
       "      <td>0</td>\n",
       "      <td>3</td>\n",
       "      <td>MM Ali</td>\n",
       "      <td>DR Sams</td>\n",
       "      <td>RD Gaikwad</td>\n",
       "      <td>Normal Dilevery</td>\n",
       "      <td>0</td>\n",
       "      <td>0</td>\n",
       "      <td>0</td>\n",
       "      <td>0</td>\n",
       "      <td>0</td>\n",
       "      <td>on one out</td>\n",
       "      <td>0</td>\n",
       "      <td>0</td>\n",
       "      <td>Chennai Super Kings</td>\n",
       "    </tr>\n",
       "    <tr>\n",
       "      <th>3</th>\n",
       "      <td>1304105</td>\n",
       "      <td>1</td>\n",
       "      <td>0</td>\n",
       "      <td>4</td>\n",
       "      <td>MM Ali</td>\n",
       "      <td>DR Sams</td>\n",
       "      <td>RD Gaikwad</td>\n",
       "      <td>wides</td>\n",
       "      <td>0</td>\n",
       "      <td>1</td>\n",
       "      <td>1</td>\n",
       "      <td>0</td>\n",
       "      <td>0</td>\n",
       "      <td>on one out</td>\n",
       "      <td>0</td>\n",
       "      <td>0</td>\n",
       "      <td>Chennai Super Kings</td>\n",
       "    </tr>\n",
       "    <tr>\n",
       "      <th>4</th>\n",
       "      <td>1304105</td>\n",
       "      <td>1</td>\n",
       "      <td>0</td>\n",
       "      <td>5</td>\n",
       "      <td>MM Ali</td>\n",
       "      <td>DR Sams</td>\n",
       "      <td>RD Gaikwad</td>\n",
       "      <td>Normal Dilevery</td>\n",
       "      <td>0</td>\n",
       "      <td>0</td>\n",
       "      <td>0</td>\n",
       "      <td>0</td>\n",
       "      <td>1</td>\n",
       "      <td>MM Ali</td>\n",
       "      <td>caught</td>\n",
       "      <td>HR Shokeen</td>\n",
       "      <td>Chennai Super Kings</td>\n",
       "    </tr>\n",
       "    <tr>\n",
       "      <th>5</th>\n",
       "      <td>1304105</td>\n",
       "      <td>1</td>\n",
       "      <td>0</td>\n",
       "      <td>6</td>\n",
       "      <td>RV Uthappa</td>\n",
       "      <td>DR Sams</td>\n",
       "      <td>RD Gaikwad</td>\n",
       "      <td>wides</td>\n",
       "      <td>0</td>\n",
       "      <td>1</td>\n",
       "      <td>1</td>\n",
       "      <td>0</td>\n",
       "      <td>0</td>\n",
       "      <td>on one out</td>\n",
       "      <td>0</td>\n",
       "      <td>0</td>\n",
       "      <td>Chennai Super Kings</td>\n",
       "    </tr>\n",
       "    <tr>\n",
       "      <th>6</th>\n",
       "      <td>1304105</td>\n",
       "      <td>1</td>\n",
       "      <td>0</td>\n",
       "      <td>7</td>\n",
       "      <td>RV Uthappa</td>\n",
       "      <td>DR Sams</td>\n",
       "      <td>RD Gaikwad</td>\n",
       "      <td>wides</td>\n",
       "      <td>0</td>\n",
       "      <td>1</td>\n",
       "      <td>1</td>\n",
       "      <td>0</td>\n",
       "      <td>0</td>\n",
       "      <td>on one out</td>\n",
       "      <td>0</td>\n",
       "      <td>0</td>\n",
       "      <td>Chennai Super Kings</td>\n",
       "    </tr>\n",
       "    <tr>\n",
       "      <th>7</th>\n",
       "      <td>1304105</td>\n",
       "      <td>1</td>\n",
       "      <td>0</td>\n",
       "      <td>8</td>\n",
       "      <td>RV Uthappa</td>\n",
       "      <td>DR Sams</td>\n",
       "      <td>RD Gaikwad</td>\n",
       "      <td>Normal Dilevery</td>\n",
       "      <td>0</td>\n",
       "      <td>0</td>\n",
       "      <td>0</td>\n",
       "      <td>0</td>\n",
       "      <td>0</td>\n",
       "      <td>on one out</td>\n",
       "      <td>0</td>\n",
       "      <td>0</td>\n",
       "      <td>Chennai Super Kings</td>\n",
       "    </tr>\n",
       "    <tr>\n",
       "      <th>8</th>\n",
       "      <td>1304105</td>\n",
       "      <td>1</td>\n",
       "      <td>0</td>\n",
       "      <td>9</td>\n",
       "      <td>RV Uthappa</td>\n",
       "      <td>DR Sams</td>\n",
       "      <td>RD Gaikwad</td>\n",
       "      <td>Normal Dilevery</td>\n",
       "      <td>1</td>\n",
       "      <td>0</td>\n",
       "      <td>1</td>\n",
       "      <td>0</td>\n",
       "      <td>0</td>\n",
       "      <td>on one out</td>\n",
       "      <td>0</td>\n",
       "      <td>0</td>\n",
       "      <td>Chennai Super Kings</td>\n",
       "    </tr>\n",
       "    <tr>\n",
       "      <th>9</th>\n",
       "      <td>1304105</td>\n",
       "      <td>1</td>\n",
       "      <td>1</td>\n",
       "      <td>1</td>\n",
       "      <td>RV Uthappa</td>\n",
       "      <td>JJ Bumrah</td>\n",
       "      <td>RD Gaikwad</td>\n",
       "      <td>Normal Dilevery</td>\n",
       "      <td>0</td>\n",
       "      <td>0</td>\n",
       "      <td>0</td>\n",
       "      <td>0</td>\n",
       "      <td>0</td>\n",
       "      <td>on one out</td>\n",
       "      <td>0</td>\n",
       "      <td>0</td>\n",
       "      <td>Chennai Super Kings</td>\n",
       "    </tr>\n",
       "  </tbody>\n",
       "</table>\n",
       "</div>"
      ],
      "text/plain": [
       "        ID  innings  overs  ballnumber      batter     bowler non-striker  \\\n",
       "0  1304105        1      0           1  RD Gaikwad    DR Sams   DP Conway   \n",
       "1  1304105        1      0           2   DP Conway    DR Sams  RD Gaikwad   \n",
       "2  1304105        1      0           3      MM Ali    DR Sams  RD Gaikwad   \n",
       "3  1304105        1      0           4      MM Ali    DR Sams  RD Gaikwad   \n",
       "4  1304105        1      0           5      MM Ali    DR Sams  RD Gaikwad   \n",
       "5  1304105        1      0           6  RV Uthappa    DR Sams  RD Gaikwad   \n",
       "6  1304105        1      0           7  RV Uthappa    DR Sams  RD Gaikwad   \n",
       "7  1304105        1      0           8  RV Uthappa    DR Sams  RD Gaikwad   \n",
       "8  1304105        1      0           9  RV Uthappa    DR Sams  RD Gaikwad   \n",
       "9  1304105        1      1           1  RV Uthappa  JJ Bumrah  RD Gaikwad   \n",
       "\n",
       "        extra_type  batsman_run  extras_run  total_run  non_boundary  \\\n",
       "0  Normal Dilevery            1           0          1             0   \n",
       "1  Normal Dilevery            0           0          0             0   \n",
       "2  Normal Dilevery            0           0          0             0   \n",
       "3            wides            0           1          1             0   \n",
       "4  Normal Dilevery            0           0          0             0   \n",
       "5            wides            0           1          1             0   \n",
       "6            wides            0           1          1             0   \n",
       "7  Normal Dilevery            0           0          0             0   \n",
       "8  Normal Dilevery            1           0          1             0   \n",
       "9  Normal Dilevery            0           0          0             0   \n",
       "\n",
       "   isWicketDelivery  player_out    kind fielders_involved          BattingTeam  \n",
       "0                 0  on one out       0                 0  Chennai Super Kings  \n",
       "1                 1   DP Conway     lbw                 0  Chennai Super Kings  \n",
       "2                 0  on one out       0                 0  Chennai Super Kings  \n",
       "3                 0  on one out       0                 0  Chennai Super Kings  \n",
       "4                 1      MM Ali  caught        HR Shokeen  Chennai Super Kings  \n",
       "5                 0  on one out       0                 0  Chennai Super Kings  \n",
       "6                 0  on one out       0                 0  Chennai Super Kings  \n",
       "7                 0  on one out       0                 0  Chennai Super Kings  \n",
       "8                 0  on one out       0                 0  Chennai Super Kings  \n",
       "9                 0  on one out       0                 0  Chennai Super Kings  "
      ]
     },
     "execution_count": 37,
     "metadata": {},
     "output_type": "execute_result"
    }
   ],
   "source": [
    "ball_df.head(10)"
   ]
  },
  {
   "cell_type": "code",
   "execution_count": 36,
   "id": "207e10c1-8428-4957-b3e8-73f2ac1fe75b",
   "metadata": {},
   "outputs": [
    {
     "data": {
      "text/html": [
       "<div>\n",
       "<style scoped>\n",
       "    .dataframe tbody tr th:only-of-type {\n",
       "        vertical-align: middle;\n",
       "    }\n",
       "\n",
       "    .dataframe tbody tr th {\n",
       "        vertical-align: top;\n",
       "    }\n",
       "\n",
       "    .dataframe thead th {\n",
       "        text-align: right;\n",
       "    }\n",
       "</style>\n",
       "<table border=\"1\" class=\"dataframe\">\n",
       "  <thead>\n",
       "    <tr style=\"text-align: right;\">\n",
       "      <th></th>\n",
       "      <th>ID</th>\n",
       "      <th>innings</th>\n",
       "      <th>overs</th>\n",
       "      <th>ballnumber</th>\n",
       "      <th>batsman_run</th>\n",
       "      <th>extras_run</th>\n",
       "      <th>total_run</th>\n",
       "      <th>non_boundary</th>\n",
       "      <th>isWicketDelivery</th>\n",
       "    </tr>\n",
       "    <tr>\n",
       "      <th>bowler</th>\n",
       "      <th></th>\n",
       "      <th></th>\n",
       "      <th></th>\n",
       "      <th></th>\n",
       "      <th></th>\n",
       "      <th></th>\n",
       "      <th></th>\n",
       "      <th></th>\n",
       "      <th></th>\n",
       "    </tr>\n",
       "  </thead>\n",
       "  <tbody>\n",
       "    <tr>\n",
       "      <th>YS Chahal</th>\n",
       "      <td>395135470</td>\n",
       "      <td>553</td>\n",
       "      <td>3543</td>\n",
       "      <td>1118</td>\n",
       "      <td>347</td>\n",
       "      <td>24</td>\n",
       "      <td>371</td>\n",
       "      <td>0</td>\n",
       "      <td>25</td>\n",
       "    </tr>\n",
       "  </tbody>\n",
       "</table>\n",
       "</div>"
      ],
      "text/plain": [
       "                  ID  innings  overs  ballnumber  batsman_run  extras_run  \\\n",
       "bowler                                                                      \n",
       "YS Chahal  395135470      553   3543        1118          347          24   \n",
       "\n",
       "           total_run  non_boundary  isWicketDelivery  \n",
       "bowler                                                \n",
       "YS Chahal        371             0                25  "
      ]
     },
     "execution_count": 36,
     "metadata": {},
     "output_type": "execute_result"
    }
   ],
   "source": [
    "ball_df.groupby('bowler').sum('isWicketDilevery').sort_values(['isWicketDelivery'], ascending=False).head(1)"
   ]
  },
  {
   "cell_type": "code",
   "execution_count": 47,
   "id": "2828fc05-a7c9-43d1-8634-0102f4d98280",
   "metadata": {},
   "outputs": [
    {
     "data": {
      "text/html": [
       "<div>\n",
       "<style scoped>\n",
       "    .dataframe tbody tr th:only-of-type {\n",
       "        vertical-align: middle;\n",
       "    }\n",
       "\n",
       "    .dataframe tbody tr th {\n",
       "        vertical-align: top;\n",
       "    }\n",
       "\n",
       "    .dataframe thead th {\n",
       "        text-align: right;\n",
       "    }\n",
       "</style>\n",
       "<table border=\"1\" class=\"dataframe\">\n",
       "  <thead>\n",
       "    <tr style=\"text-align: right;\">\n",
       "      <th></th>\n",
       "      <th>bowler</th>\n",
       "      <th>NO OF WICKETS</th>\n",
       "    </tr>\n",
       "  </thead>\n",
       "  <tbody>\n",
       "    <tr>\n",
       "      <th>0</th>\n",
       "      <td>YS Chahal</td>\n",
       "      <td>25</td>\n",
       "    </tr>\n",
       "  </tbody>\n",
       "</table>\n",
       "</div>"
      ],
      "text/plain": [
       "      bowler  NO OF WICKETS\n",
       "0  YS Chahal             25"
      ]
     },
     "execution_count": 47,
     "metadata": {},
     "output_type": "execute_result"
    }
   ],
   "source": [
    "bowler= ball_df[ball_df['kind']!=0]['bowler'].value_counts().reset_index(name=\"NO OF WICKETS\")\n",
    "bowler.rename(columns={'index':'Bowler'}, inplace=True)\n",
    "bowler.head(1)"
   ]
  },
  {
   "cell_type": "markdown",
   "id": "2c58ce6a-c2a6-45fd-8ecc-8b546b9652c2",
   "metadata": {},
   "source": [
    "# 2.BOWLER WHO TAKES SMALLEST NUMBER OF WICKETS OVER ALL IPL"
   ]
  },
  {
   "cell_type": "code",
   "execution_count": 52,
   "id": "c52363eb-151b-4159-8be6-bbe6c7c09344",
   "metadata": {},
   "outputs": [
    {
     "data": {
      "text/html": [
       "<div>\n",
       "<style scoped>\n",
       "    .dataframe tbody tr th:only-of-type {\n",
       "        vertical-align: middle;\n",
       "    }\n",
       "\n",
       "    .dataframe tbody tr th {\n",
       "        vertical-align: top;\n",
       "    }\n",
       "\n",
       "    .dataframe thead th {\n",
       "        text-align: right;\n",
       "    }\n",
       "</style>\n",
       "<table border=\"1\" class=\"dataframe\">\n",
       "  <thead>\n",
       "    <tr style=\"text-align: right;\">\n",
       "      <th></th>\n",
       "      <th>ID</th>\n",
       "      <th>innings</th>\n",
       "      <th>overs</th>\n",
       "      <th>ballnumber</th>\n",
       "      <th>batsman_run</th>\n",
       "      <th>extras_run</th>\n",
       "      <th>total_run</th>\n",
       "      <th>non_boundary</th>\n",
       "      <th>isWicketDelivery</th>\n",
       "    </tr>\n",
       "    <tr>\n",
       "      <th>bowler</th>\n",
       "      <th></th>\n",
       "      <th></th>\n",
       "      <th></th>\n",
       "      <th></th>\n",
       "      <th></th>\n",
       "      <th></th>\n",
       "      <th></th>\n",
       "      <th></th>\n",
       "      <th></th>\n",
       "    </tr>\n",
       "  </thead>\n",
       "  <tbody>\n",
       "    <tr>\n",
       "      <th>VR Iyer</th>\n",
       "      <td>31297836</td>\n",
       "      <td>42</td>\n",
       "      <td>300</td>\n",
       "      <td>84</td>\n",
       "      <td>46</td>\n",
       "      <td>0</td>\n",
       "      <td>46</td>\n",
       "      <td>0</td>\n",
       "      <td>0</td>\n",
       "    </tr>\n",
       "    <tr>\n",
       "      <th>DJ Mitchell</th>\n",
       "      <td>16953135</td>\n",
       "      <td>26</td>\n",
       "      <td>85</td>\n",
       "      <td>49</td>\n",
       "      <td>26</td>\n",
       "      <td>1</td>\n",
       "      <td>27</td>\n",
       "      <td>0</td>\n",
       "      <td>0</td>\n",
       "    </tr>\n",
       "    <tr>\n",
       "      <th>Abdul Samad</th>\n",
       "      <td>7824348</td>\n",
       "      <td>6</td>\n",
       "      <td>42</td>\n",
       "      <td>21</td>\n",
       "      <td>8</td>\n",
       "      <td>0</td>\n",
       "      <td>8</td>\n",
       "      <td>0</td>\n",
       "      <td>0</td>\n",
       "    </tr>\n",
       "    <tr>\n",
       "      <th>Abhishek Sharma</th>\n",
       "      <td>23473506</td>\n",
       "      <td>18</td>\n",
       "      <td>150</td>\n",
       "      <td>63</td>\n",
       "      <td>28</td>\n",
       "      <td>0</td>\n",
       "      <td>28</td>\n",
       "      <td>0</td>\n",
       "      <td>0</td>\n",
       "    </tr>\n",
       "    <tr>\n",
       "      <th>Aman Hakim Khan</th>\n",
       "      <td>7824426</td>\n",
       "      <td>12</td>\n",
       "      <td>36</td>\n",
       "      <td>21</td>\n",
       "      <td>13</td>\n",
       "      <td>0</td>\n",
       "      <td>13</td>\n",
       "      <td>0</td>\n",
       "      <td>0</td>\n",
       "    </tr>\n",
       "    <tr>\n",
       "      <th>YBK Jaiswal</th>\n",
       "      <td>1304059</td>\n",
       "      <td>2</td>\n",
       "      <td>19</td>\n",
       "      <td>1</td>\n",
       "      <td>6</td>\n",
       "      <td>0</td>\n",
       "      <td>6</td>\n",
       "      <td>0</td>\n",
       "      <td>0</td>\n",
       "    </tr>\n",
       "    <tr>\n",
       "      <th>Tilak Varma</th>\n",
       "      <td>15648792</td>\n",
       "      <td>18</td>\n",
       "      <td>36</td>\n",
       "      <td>42</td>\n",
       "      <td>13</td>\n",
       "      <td>0</td>\n",
       "      <td>13</td>\n",
       "      <td>0</td>\n",
       "      <td>0</td>\n",
       "    </tr>\n",
       "    <tr>\n",
       "      <th>AF Milne</th>\n",
       "      <td>19560705</td>\n",
       "      <td>30</td>\n",
       "      <td>78</td>\n",
       "      <td>48</td>\n",
       "      <td>19</td>\n",
       "      <td>0</td>\n",
       "      <td>19</td>\n",
       "      <td>0</td>\n",
       "      <td>0</td>\n",
       "    </tr>\n",
       "    <tr>\n",
       "      <th>Fazalhaq Farooqi</th>\n",
       "      <td>31298400</td>\n",
       "      <td>24</td>\n",
       "      <td>288</td>\n",
       "      <td>84</td>\n",
       "      <td>47</td>\n",
       "      <td>0</td>\n",
       "      <td>47</td>\n",
       "      <td>0</td>\n",
       "      <td>0</td>\n",
       "    </tr>\n",
       "    <tr>\n",
       "      <th>R Powell</th>\n",
       "      <td>9128455</td>\n",
       "      <td>14</td>\n",
       "      <td>63</td>\n",
       "      <td>28</td>\n",
       "      <td>16</td>\n",
       "      <td>1</td>\n",
       "      <td>17</td>\n",
       "      <td>0</td>\n",
       "      <td>0</td>\n",
       "    </tr>\n",
       "    <tr>\n",
       "      <th>Harpreet Brar</th>\n",
       "      <td>41729633</td>\n",
       "      <td>45</td>\n",
       "      <td>288</td>\n",
       "      <td>119</td>\n",
       "      <td>55</td>\n",
       "      <td>3</td>\n",
       "      <td>58</td>\n",
       "      <td>0</td>\n",
       "      <td>0</td>\n",
       "    </tr>\n",
       "    <tr>\n",
       "      <th>Shashank Singh</th>\n",
       "      <td>16953049</td>\n",
       "      <td>13</td>\n",
       "      <td>127</td>\n",
       "      <td>49</td>\n",
       "      <td>19</td>\n",
       "      <td>1</td>\n",
       "      <td>20</td>\n",
       "      <td>0</td>\n",
       "      <td>0</td>\n",
       "    </tr>\n",
       "    <tr>\n",
       "      <th>JDS Neesham</th>\n",
       "      <td>23473260</td>\n",
       "      <td>18</td>\n",
       "      <td>108</td>\n",
       "      <td>63</td>\n",
       "      <td>29</td>\n",
       "      <td>0</td>\n",
       "      <td>29</td>\n",
       "      <td>0</td>\n",
       "      <td>0</td>\n",
       "    </tr>\n",
       "    <tr>\n",
       "      <th>KL Nagarkoti</th>\n",
       "      <td>16952624</td>\n",
       "      <td>13</td>\n",
       "      <td>100</td>\n",
       "      <td>49</td>\n",
       "      <td>28</td>\n",
       "      <td>1</td>\n",
       "      <td>29</td>\n",
       "      <td>0</td>\n",
       "      <td>0</td>\n",
       "    </tr>\n",
       "    <tr>\n",
       "      <th>SS Iyer</th>\n",
       "      <td>7824522</td>\n",
       "      <td>12</td>\n",
       "      <td>108</td>\n",
       "      <td>21</td>\n",
       "      <td>7</td>\n",
       "      <td>0</td>\n",
       "      <td>7</td>\n",
       "      <td>0</td>\n",
       "      <td>0</td>\n",
       "    </tr>\n",
       "    <tr>\n",
       "      <th>N Rana</th>\n",
       "      <td>7824522</td>\n",
       "      <td>12</td>\n",
       "      <td>48</td>\n",
       "      <td>21</td>\n",
       "      <td>14</td>\n",
       "      <td>0</td>\n",
       "      <td>14</td>\n",
       "      <td>0</td>\n",
       "      <td>0</td>\n",
       "    </tr>\n",
       "    <tr>\n",
       "      <th>NM Coulter-Nile</th>\n",
       "      <td>26081020</td>\n",
       "      <td>40</td>\n",
       "      <td>235</td>\n",
       "      <td>71</td>\n",
       "      <td>46</td>\n",
       "      <td>3</td>\n",
       "      <td>49</td>\n",
       "      <td>0</td>\n",
       "      <td>0</td>\n",
       "    </tr>\n",
       "    <tr>\n",
       "      <th>S Dube</th>\n",
       "      <td>18256706</td>\n",
       "      <td>28</td>\n",
       "      <td>186</td>\n",
       "      <td>57</td>\n",
       "      <td>34</td>\n",
       "      <td>6</td>\n",
       "      <td>40</td>\n",
       "      <td>0</td>\n",
       "      <td>0</td>\n",
       "    </tr>\n",
       "    <tr>\n",
       "      <th>NT Ellis</th>\n",
       "      <td>18257092</td>\n",
       "      <td>28</td>\n",
       "      <td>98</td>\n",
       "      <td>56</td>\n",
       "      <td>13</td>\n",
       "      <td>2</td>\n",
       "      <td>15</td>\n",
       "      <td>0</td>\n",
       "      <td>0</td>\n",
       "    </tr>\n",
       "    <tr>\n",
       "      <th>Rasikh Salam</th>\n",
       "      <td>31297470</td>\n",
       "      <td>24</td>\n",
       "      <td>108</td>\n",
       "      <td>84</td>\n",
       "      <td>28</td>\n",
       "      <td>0</td>\n",
       "      <td>28</td>\n",
       "      <td>0</td>\n",
       "      <td>0</td>\n",
       "    </tr>\n",
       "    <tr>\n",
       "      <th>MK Lomror</th>\n",
       "      <td>7824600</td>\n",
       "      <td>12</td>\n",
       "      <td>36</td>\n",
       "      <td>21</td>\n",
       "      <td>7</td>\n",
       "      <td>0</td>\n",
       "      <td>7</td>\n",
       "      <td>0</td>\n",
       "      <td>0</td>\n",
       "    </tr>\n",
       "  </tbody>\n",
       "</table>\n",
       "</div>"
      ],
      "text/plain": [
       "                        ID  innings  overs  ballnumber  batsman_run  \\\n",
       "bowler                                                                \n",
       "VR Iyer           31297836       42    300          84           46   \n",
       "DJ Mitchell       16953135       26     85          49           26   \n",
       "Abdul Samad        7824348        6     42          21            8   \n",
       "Abhishek Sharma   23473506       18    150          63           28   \n",
       "Aman Hakim Khan    7824426       12     36          21           13   \n",
       "YBK Jaiswal        1304059        2     19           1            6   \n",
       "Tilak Varma       15648792       18     36          42           13   \n",
       "AF Milne          19560705       30     78          48           19   \n",
       "Fazalhaq Farooqi  31298400       24    288          84           47   \n",
       "R Powell           9128455       14     63          28           16   \n",
       "Harpreet Brar     41729633       45    288         119           55   \n",
       "Shashank Singh    16953049       13    127          49           19   \n",
       "JDS Neesham       23473260       18    108          63           29   \n",
       "KL Nagarkoti      16952624       13    100          49           28   \n",
       "SS Iyer            7824522       12    108          21            7   \n",
       "N Rana             7824522       12     48          21           14   \n",
       "NM Coulter-Nile   26081020       40    235          71           46   \n",
       "S Dube            18256706       28    186          57           34   \n",
       "NT Ellis          18257092       28     98          56           13   \n",
       "Rasikh Salam      31297470       24    108          84           28   \n",
       "MK Lomror          7824600       12     36          21            7   \n",
       "\n",
       "                  extras_run  total_run  non_boundary  isWicketDelivery  \n",
       "bowler                                                                   \n",
       "VR Iyer                    0         46             0                 0  \n",
       "DJ Mitchell                1         27             0                 0  \n",
       "Abdul Samad                0          8             0                 0  \n",
       "Abhishek Sharma            0         28             0                 0  \n",
       "Aman Hakim Khan            0         13             0                 0  \n",
       "YBK Jaiswal                0          6             0                 0  \n",
       "Tilak Varma                0         13             0                 0  \n",
       "AF Milne                   0         19             0                 0  \n",
       "Fazalhaq Farooqi           0         47             0                 0  \n",
       "R Powell                   1         17             0                 0  \n",
       "Harpreet Brar              3         58             0                 0  \n",
       "Shashank Singh             1         20             0                 0  \n",
       "JDS Neesham                0         29             0                 0  \n",
       "KL Nagarkoti               1         29             0                 0  \n",
       "SS Iyer                    0          7             0                 0  \n",
       "N Rana                     0         14             0                 0  \n",
       "NM Coulter-Nile            3         49             0                 0  \n",
       "S Dube                     6         40             0                 0  \n",
       "NT Ellis                   2         15             0                 0  \n",
       "Rasikh Salam               0         28             0                 0  \n",
       "MK Lomror                  0          7             0                 0  "
      ]
     },
     "execution_count": 52,
     "metadata": {},
     "output_type": "execute_result"
    }
   ],
   "source": [
    "ball_df.groupby('bowler').sum('isWicketDilevery').sort_values(['isWicketDelivery'], ascending=False).tail(21)"
   ]
  },
  {
   "cell_type": "markdown",
   "id": "12ff952a-d76b-45a9-9b37-c888a1fdf01d",
   "metadata": {},
   "source": [
    "# STATS OF TOP 5 BOWLERS"
   ]
  },
  {
   "cell_type": "code",
   "execution_count": 53,
   "id": "b0cb916b-ea74-4674-9c61-0b50423e315d",
   "metadata": {},
   "outputs": [],
   "source": [
    "bowler5= bowler.head(5)"
   ]
  },
  {
   "cell_type": "code",
   "execution_count": 58,
   "id": "bd20203a-ef5b-4b5a-81cf-473f154bf002",
   "metadata": {},
   "outputs": [
    {
     "data": {
      "image/png": "[encoded data removed]",
      "text/plain": [
       "<Figure size 1000x500 with 1 Axes>"
      ]
     },
     "metadata": {},
     "output_type": "display_data"
    }
   ],
   "source": [
    "plt.figure(figsize=(10,5))\n",
    "plt.bar(bowler5['bowler'], bowler5['NO OF WICKETS'], color='green' ,width=0.5)\n",
    "plt.title('Bowler Stats')\n",
    "plt.xlabel('Name of the Bowler')\n",
    "plt.ylabel('No Of Wickets')\n",
    "plt.show()"
   ]
  },
  {
   "cell_type": "markdown",
   "id": "1b208940-1511-4987-bedc-a96786013893",
   "metadata": {},
   "source": [
    "# DIFFERENT WICKET TYPES AND WHO TAKES LARGEST NUMBERS"
   ]
  },
  {
   "cell_type": "code",
   "execution_count": 59,
   "id": "196dc322-2220-429a-a841-a3b699c30559",
   "metadata": {},
   "outputs": [
    {
     "data": {
      "text/plain": [
       "[0,\n",
       " 'lbw',\n",
       " 'caught',\n",
       " 'run out',\n",
       " 'bowled',\n",
       " 'stumped',\n",
       " 'caught and bowled',\n",
       " 'hit wicket',\n",
       " 'retired hurt',\n",
       " 'retired out']"
      ]
     },
     "execution_count": 59,
     "metadata": {},
     "output_type": "execute_result"
    }
   ],
   "source": [
    "list(ball_df['kind'].unique())"
   ]
  },
  {
   "cell_type": "markdown",
   "id": "490ad1db-80e9-47f0-a5a6-86af79cfbea9",
   "metadata": {},
   "source": [
    "# FILDER WHO TAKES CATCHES"
   ]
  },
  {
   "cell_type": "code",
   "execution_count": 82,
   "id": "ee7811e1-bed1-4450-aa1d-12d2572805d0",
   "metadata": {},
   "outputs": [
    {
     "data": {
      "text/html": [
       "<div>\n",
       "<style scoped>\n",
       "    .dataframe tbody tr th:only-of-type {\n",
       "        vertical-align: middle;\n",
       "    }\n",
       "\n",
       "    .dataframe tbody tr th {\n",
       "        vertical-align: top;\n",
       "    }\n",
       "\n",
       "    .dataframe thead th {\n",
       "        text-align: right;\n",
       "    }\n",
       "</style>\n",
       "<table border=\"1\" class=\"dataframe\">\n",
       "  <thead>\n",
       "    <tr style=\"text-align: right;\">\n",
       "      <th></th>\n",
       "      <th>wicket_keeper</th>\n",
       "      <th>catch</th>\n",
       "    </tr>\n",
       "  </thead>\n",
       "  <tbody>\n",
       "    <tr>\n",
       "      <th>0</th>\n",
       "      <td>R Parag</td>\n",
       "      <td>11</td>\n",
       "    </tr>\n",
       "    <tr>\n",
       "      <th>1</th>\n",
       "      <td>Q de Kock</td>\n",
       "      <td>10</td>\n",
       "    </tr>\n",
       "    <tr>\n",
       "      <th>2</th>\n",
       "      <td>Ishan Kishan</td>\n",
       "      <td>10</td>\n",
       "    </tr>\n",
       "    <tr>\n",
       "      <th>3</th>\n",
       "      <td>SV Samson</td>\n",
       "      <td>10</td>\n",
       "    </tr>\n",
       "    <tr>\n",
       "      <th>4</th>\n",
       "      <td>Tilak Varma</td>\n",
       "      <td>9</td>\n",
       "    </tr>\n",
       "  </tbody>\n",
       "</table>\n",
       "</div>"
      ],
      "text/plain": [
       "  wicket_keeper  catch\n",
       "0       R Parag     11\n",
       "1     Q de Kock     10\n",
       "2  Ishan Kishan     10\n",
       "3     SV Samson     10\n",
       "4   Tilak Varma      9"
      ]
     },
     "execution_count": 82,
     "metadata": {},
     "output_type": "execute_result"
    }
   ],
   "source": [
    "wicket_keeper_catch=ball_df[ball_df['kind']=='caught']['fielders_involved'].value_counts().reset_index()\n",
    "wicket_keeper_catch.rename(columns={'count':'catch','fielders_involved':'wicket_keeper'}, inplace=True)\n",
    "wicket_keeper_catch.head(5)\n"
   ]
  },
  {
   "cell_type": "markdown",
   "id": "6488c641-19f3-41f3-b8a1-0644b3932c31",
   "metadata": {},
   "source": [
    "# FILDER WHO TALE RUN OUT"
   ]
  },
  {
   "cell_type": "code",
   "execution_count": 84,
   "id": "981bcf30-c983-4548-8766-809501ed28c2",
   "metadata": {},
   "outputs": [
    {
     "data": {
      "text/html": [
       "<div>\n",
       "<style scoped>\n",
       "    .dataframe tbody tr th:only-of-type {\n",
       "        vertical-align: middle;\n",
       "    }\n",
       "\n",
       "    .dataframe tbody tr th {\n",
       "        vertical-align: top;\n",
       "    }\n",
       "\n",
       "    .dataframe thead th {\n",
       "        text-align: right;\n",
       "    }\n",
       "</style>\n",
       "<table border=\"1\" class=\"dataframe\">\n",
       "  <thead>\n",
       "    <tr style=\"text-align: right;\">\n",
       "      <th></th>\n",
       "      <th>wicket_keeper</th>\n",
       "      <th>run_out</th>\n",
       "    </tr>\n",
       "  </thead>\n",
       "  <tbody>\n",
       "    <tr>\n",
       "      <th>0</th>\n",
       "      <td>Ishan Kishan</td>\n",
       "      <td>4</td>\n",
       "    </tr>\n",
       "    <tr>\n",
       "      <th>1</th>\n",
       "      <td>SS Iyer</td>\n",
       "      <td>3</td>\n",
       "    </tr>\n",
       "    <tr>\n",
       "      <th>2</th>\n",
       "      <td>N Pooran</td>\n",
       "      <td>3</td>\n",
       "    </tr>\n",
       "    <tr>\n",
       "      <th>3</th>\n",
       "      <td>SV Samson</td>\n",
       "      <td>3</td>\n",
       "    </tr>\n",
       "    <tr>\n",
       "      <th>4</th>\n",
       "      <td>HH Pandya</td>\n",
       "      <td>2</td>\n",
       "    </tr>\n",
       "  </tbody>\n",
       "</table>\n",
       "</div>"
      ],
      "text/plain": [
       "  wicket_keeper  run_out\n",
       "0  Ishan Kishan        4\n",
       "1       SS Iyer        3\n",
       "2      N Pooran        3\n",
       "3     SV Samson        3\n",
       "4     HH Pandya        2"
      ]
     },
     "execution_count": 84,
     "metadata": {},
     "output_type": "execute_result"
    }
   ],
   "source": [
    "wicket_keeper_runout=ball_df[ball_df['kind']=='run out']['fielders_involved'].value_counts().reset_index()\n",
    "wicket_keeper_runout.rename(columns={'count':'run_out','fielders_involved':'wicket_keeper'}, inplace=True)\n",
    "wicket_keeper_runout.head(5)\n",
    "     "
   ]
  },
  {
   "cell_type": "markdown",
   "id": "21a147da-57ea-4669-a634-46ac71da5f48",
   "metadata": {},
   "source": [
    "# WORKING ON WICKETS STATS BETWEEN CATCHES AND RUN OUT"
   ]
  },
  {
   "cell_type": "code",
   "execution_count": 85,
   "id": "a65b5f7b-fbb7-4668-a0d0-7679738f7303",
   "metadata": {},
   "outputs": [
    {
     "data": {
      "text/html": [
       "<div>\n",
       "<style scoped>\n",
       "    .dataframe tbody tr th:only-of-type {\n",
       "        vertical-align: middle;\n",
       "    }\n",
       "\n",
       "    .dataframe tbody tr th {\n",
       "        vertical-align: top;\n",
       "    }\n",
       "\n",
       "    .dataframe thead th {\n",
       "        text-align: right;\n",
       "    }\n",
       "</style>\n",
       "<table border=\"1\" class=\"dataframe\">\n",
       "  <thead>\n",
       "    <tr style=\"text-align: right;\">\n",
       "      <th></th>\n",
       "      <th>wicket_keeper</th>\n",
       "      <th>catch</th>\n",
       "      <th>run_out</th>\n",
       "    </tr>\n",
       "  </thead>\n",
       "  <tbody>\n",
       "    <tr>\n",
       "      <th>0</th>\n",
       "      <td>Q de Kock</td>\n",
       "      <td>10</td>\n",
       "      <td>2</td>\n",
       "    </tr>\n",
       "    <tr>\n",
       "      <th>1</th>\n",
       "      <td>Ishan Kishan</td>\n",
       "      <td>10</td>\n",
       "      <td>4</td>\n",
       "    </tr>\n",
       "    <tr>\n",
       "      <th>2</th>\n",
       "      <td>SV Samson</td>\n",
       "      <td>10</td>\n",
       "      <td>3</td>\n",
       "    </tr>\n",
       "    <tr>\n",
       "      <th>3</th>\n",
       "      <td>MS Dhoni</td>\n",
       "      <td>9</td>\n",
       "      <td>1</td>\n",
       "    </tr>\n",
       "    <tr>\n",
       "      <th>4</th>\n",
       "      <td>RK Singh</td>\n",
       "      <td>9</td>\n",
       "      <td>1</td>\n",
       "    </tr>\n",
       "    <tr>\n",
       "      <th>5</th>\n",
       "      <td>MA Agarwal</td>\n",
       "      <td>8</td>\n",
       "      <td>1</td>\n",
       "    </tr>\n",
       "    <tr>\n",
       "      <th>6</th>\n",
       "      <td>N Pooran</td>\n",
       "      <td>8</td>\n",
       "      <td>3</td>\n",
       "    </tr>\n",
       "    <tr>\n",
       "      <th>7</th>\n",
       "      <td>A Badoni</td>\n",
       "      <td>8</td>\n",
       "      <td>1</td>\n",
       "    </tr>\n",
       "    <tr>\n",
       "      <th>8</th>\n",
       "      <td>WP Saha</td>\n",
       "      <td>7</td>\n",
       "      <td>1</td>\n",
       "    </tr>\n",
       "    <tr>\n",
       "      <th>9</th>\n",
       "      <td>KL Rahul</td>\n",
       "      <td>7</td>\n",
       "      <td>1</td>\n",
       "    </tr>\n",
       "  </tbody>\n",
       "</table>\n",
       "</div>"
      ],
      "text/plain": [
       "  wicket_keeper  catch  run_out\n",
       "0     Q de Kock     10        2\n",
       "1  Ishan Kishan     10        4\n",
       "2     SV Samson     10        3\n",
       "3      MS Dhoni      9        1\n",
       "4      RK Singh      9        1\n",
       "5    MA Agarwal      8        1\n",
       "6      N Pooran      8        3\n",
       "7      A Badoni      8        1\n",
       "8       WP Saha      7        1\n",
       "9      KL Rahul      7        1"
      ]
     },
     "execution_count": 85,
     "metadata": {},
     "output_type": "execute_result"
    }
   ],
   "source": [
    "wicket_keeper_merge= wicket_keeper_catch.merge(wicket_keeper_runout,on=\"wicket_keeper\")\n",
    "wicket_keepertop10= wicket_keeper_merge.head(10)\n",
    "wicket_keepertop10"
   ]
  },
  {
   "cell_type": "code",
   "execution_count": 93,
   "id": "a424984c-55e1-4abd-880e-cd7819a5f311",
   "metadata": {},
   "outputs": [
    {
     "data": {
      "image/png": "[encoded data removed]",
      "text/plain": [
       "<Figure size 2000x500 with 1 Axes>"
      ]
     },
     "metadata": {},
     "output_type": "display_data"
    }
   ],
   "source": [
    "plt.figure(figsize=(20,5))\n",
    "plt.bar(wicket_keepertop10['wicket_keeper'],wicket_keepertop10['catch'], label='catches')\n",
    "plt.bar(wicket_keepertop10['wicket_keeper'],wicket_keepertop10['run_out'], label='run_out')\n",
    "plt.title('wicket keeper stats')\n",
    "plt.xlabel('wicket keepers')\n",
    "plt.ylabel('wicket_count')\n",
    "plt.legend(loc='upper right')\n",
    "plt.show()"
   ]
  },
  {
   "cell_type": "markdown",
   "id": "ad3a8d03-392d-4d82-b826-ad0eb6558e8f",
   "metadata": {},
   "source": [
    "# NO. OF TOSS WON BY EACH TEAM"
   ]
  },
  {
   "cell_type": "code",
   "execution_count": 99,
   "id": "1ba3ae7b-8673-4a08-8caf-a063cfa20bff",
   "metadata": {},
   "outputs": [],
   "source": [
    "\n",
    "toss_won_count=pd.DataFrame({\"Toss Won\":matches_df['TossWinner']}).value_counts()\n",
    "labels=[x[0]for x in toss_won_count.keys()]\n",
    "     "
   ]
  },
  {
   "cell_type": "code",
   "execution_count": 124,
   "id": "9e93048b-2483-4941-8bb5-2596be582367",
   "metadata": {},
   "outputs": [
    {
     "data": {
      "text/plain": [
       "<matplotlib.legend.Legend at 0x21a2b5aa540>"
      ]
     },
     "execution_count": 124,
     "metadata": {},
     "output_type": "execute_result"
    },
    {
     "data": {
      "image/png": "[encoded data removed]",
      "text/plain": [
       "<Figure size 640x480 with 1 Axes>"
      ]
     },
     "metadata": {},
     "output_type": "display_data"
    }
   ],
   "source": [
    "plt.pie(toss_won_count, radius=1, labels=labels,autopct=\"%2.1f%%\",startangle=0,explode=[0.3,0,0,0,0,0,0,0,0,0],shadow=True)\n",
    "plt.legend(bbox_to_anchor=(0,0), loc=\"best\",bbox_transform=plt.gcf().transFigure)"
   ]
  },
  {
   "cell_type": "markdown",
   "id": "8c36cc2d-22da-481a-af76-c0e9e5ade9b0",
   "metadata": {},
   "source": [
    "# TEAM THAT WIN BY HIGHEST RUN MARGIN/RUN CHASE IN OVER ALL IPL"
   ]
  },
  {
   "cell_type": "code",
   "execution_count": 131,
   "id": "246e3bb4-89c7-4f5b-afc8-3fb966532a7c",
   "metadata": {},
   "outputs": [
    {
     "data": {
      "text/plain": [
       "array(['Wickets', 'Runs'], dtype=object)"
      ]
     },
     "execution_count": 131,
     "metadata": {},
     "output_type": "execute_result"
    }
   ],
   "source": [
    "matches_df['WonBy'].unique()"
   ]
  },
  {
   "cell_type": "code",
   "execution_count": 137,
   "id": "2b5e8d1c-ef0b-4838-8b17-a2d5ce1cb023",
   "metadata": {},
   "outputs": [
    {
     "name": "stderr",
     "output_type": "stream",
     "text": [
      "C:\\Users\\gauri\\AppData\\Local\\Temp\\ipykernel_2352\\4157373944.py:1: DeprecationWarning: DataFrameGroupBy.apply operated on the grouping columns. This behavior is deprecated, and in a future version of pandas the grouping columns will be excluded from the operation. Either pass `include_groups=False` to exclude the groupings or explicitly select the grouping columns after groupby to silence this warning.\n",
      "  highest_run_margin_team= matches_df.groupby(['ID','WinningTeam']).apply(lambda x: x[x['WonBy']=='Runs']['Margin'].sum())\n"
     ]
    },
    {
     "data": {
      "text/plain": [
       "ID       WinningTeam                \n",
       "1304101  Chennai Super Kings            91\n",
       "1304099  Lucknow Super Giants           75\n",
       "1304100  Royal Challengers Bangalore    67\n",
       "1304103  Gujarat Titans                 62\n",
       "1304051  Rajasthan Royals               61\n",
       "dtype: int64"
      ]
     },
     "execution_count": 137,
     "metadata": {},
     "output_type": "execute_result"
    }
   ],
   "source": [
    "highest_run_margin_team= matches_df.groupby(['ID','WinningTeam']).apply(lambda x: x[x['WonBy']=='Runs']['Margin'].sum())\n",
    "highest_run_margin_team.sort_values(ascending=False).head(5)"
   ]
  },
  {
   "cell_type": "markdown",
   "id": "fa7a4c3e-e196-42cb-a028-067d221221f7",
   "metadata": {},
   "source": [
    "# HIGHEST RUN SCORER IN POWER PLAY AND DEATH OVERS"
   ]
  },
  {
   "cell_type": "markdown",
   "id": "030934c6-3000-4c29-9981-49f226ccfc34",
   "metadata": {},
   "source": [
    "# power play"
   ]
  },
  {
   "cell_type": "code",
   "execution_count": 140,
   "id": "01cf7612-ce84-42d0-b8ba-fcd7fd7385ed",
   "metadata": {},
   "outputs": [
    {
     "name": "stderr",
     "output_type": "stream",
     "text": [
      "C:\\Users\\gauri\\AppData\\Local\\Temp\\ipykernel_2352\\3858421935.py:1: DeprecationWarning: DataFrameGroupBy.apply operated on the grouping columns. This behavior is deprecated, and in a future version of pandas the grouping columns will be excluded from the operation. Either pass `include_groups=False` to exclude the groupings or explicitly select the grouping columns after groupby to silence this warning.\n",
      "  ball_df.groupby('batter').apply(lambda x: x[x['overs'].isin([1,2,3,4,5,6])]['total_run'].sum()).nlargest(1)\n"
     ]
    },
    {
     "data": {
      "text/plain": [
       "batter\n",
       "JC Buttler    295\n",
       "dtype: int64"
      ]
     },
     "execution_count": 140,
     "metadata": {},
     "output_type": "execute_result"
    }
   ],
   "source": [
    "ball_df.groupby('batter').apply(lambda x: x[x['overs'].isin([1,2,3,4,5,6])]['total_run'].sum()).nlargest(1)\n"
   ]
  },
  {
   "cell_type": "markdown",
   "id": "b0b8477a-35a7-4564-aca1-dda01ab53b32",
   "metadata": {},
   "source": [
    "# deadth over"
   ]
  },
  {
   "cell_type": "code",
   "execution_count": 141,
   "id": "51cf71bd-e0cf-4acb-8bd3-7fd7bcda6763",
   "metadata": {},
   "outputs": [
    {
     "name": "stderr",
     "output_type": "stream",
     "text": [
      "C:\\Users\\gauri\\AppData\\Local\\Temp\\ipykernel_2352\\3964700429.py:1: DeprecationWarning: DataFrameGroupBy.apply operated on the grouping columns. This behavior is deprecated, and in a future version of pandas the grouping columns will be excluded from the operation. Either pass `include_groups=False` to exclude the groupings or explicitly select the grouping columns after groupby to silence this warning.\n",
      "  ball_df.groupby('batter').apply(lambda x: x[x['overs'].isin([16,17,18,19,20])]['total_run'].sum()).nlargest(1)\n"
     ]
    },
    {
     "data": {
      "text/plain": [
       "batter\n",
       "SO Hetmyer    227\n",
       "dtype: int64"
      ]
     },
     "execution_count": 141,
     "metadata": {},
     "output_type": "execute_result"
    }
   ],
   "source": [
    "ball_df.groupby('batter').apply(lambda x: x[x['overs'].isin([16,17,18,19,20])]['total_run'].sum()).nlargest(1)"
   ]
  },
  {
   "cell_type": "markdown",
   "id": "bf9162e6-6a61-4eed-86ad-2e93cd33caff",
   "metadata": {},
   "source": [
    "# MOST RUN SCORER PLAYER IN LAST 2 OVER"
   ]
  },
  {
   "cell_type": "code",
   "execution_count": 143,
   "id": "addb260d-8056-4f65-8dd6-86d278e14e66",
   "metadata": {},
   "outputs": [
    {
     "name": "stderr",
     "output_type": "stream",
     "text": [
      "C:\\Users\\gauri\\AppData\\Local\\Temp\\ipykernel_2352\\74435649.py:1: DeprecationWarning: DataFrameGroupBy.apply operated on the grouping columns. This behavior is deprecated, and in a future version of pandas the grouping columns will be excluded from the operation. Either pass `include_groups=False` to exclude the groupings or explicitly select the grouping columns after groupby to silence this warning.\n",
      "  ball_df.groupby('batter').apply(lambda x: x[x['overs'].isin([19,20])]['total_run'].sum()).nlargest(2)\n"
     ]
    },
    {
     "data": {
      "text/plain": [
       "batter\n",
       "KD Karthik    72\n",
       "SO Hetmyer    55\n",
       "dtype: int64"
      ]
     },
     "execution_count": 143,
     "metadata": {},
     "output_type": "execute_result"
    }
   ],
   "source": [
    "ball_df.groupby('batter').apply(lambda x: x[x['overs'].isin([19,20])]['total_run'].sum()).nlargest(2)"
   ]
  },
  {
   "cell_type": "markdown",
   "id": "69a3b20b-f7d6-4aa6-baad-1f76c2b55262",
   "metadata": {},
   "source": [
    "# MOST RUNS SCORED TEAM IN 19TH AND 20TH OVER"
   ]
  },
  {
   "cell_type": "code",
   "execution_count": 144,
   "id": "ad177fae-e1ec-4395-8208-c0d96da305a0",
   "metadata": {},
   "outputs": [
    {
     "name": "stderr",
     "output_type": "stream",
     "text": [
      "C:\\Users\\gauri\\AppData\\Local\\Temp\\ipykernel_2352\\2241629198.py:1: DeprecationWarning: DataFrameGroupBy.apply operated on the grouping columns. This behavior is deprecated, and in a future version of pandas the grouping columns will be excluded from the operation. Either pass `include_groups=False` to exclude the groupings or explicitly select the grouping columns after groupby to silence this warning.\n",
      "  ball_df.groupby('BattingTeam').apply(lambda x: x[x['overs'].isin([19,20])]['total_run'].sum()).nlargest(2)\n"
     ]
    },
    {
     "data": {
      "text/plain": [
       "BattingTeam\n",
       "Chennai Super Kings    146\n",
       "Gujarat Titans         139\n",
       "dtype: int64"
      ]
     },
     "execution_count": 144,
     "metadata": {},
     "output_type": "execute_result"
    }
   ],
   "source": [
    "ball_df.groupby('BattingTeam').apply(lambda x: x[x['overs'].isin([19,20])]['total_run'].sum()).nlargest(2)"
   ]
  },
  {
   "cell_type": "markdown",
   "id": "710f5fba-ac9a-4703-8f98-56d45d96d3ca",
   "metadata": {},
   "source": [
    "# MATCH WINNER TEAMS AFTER WINNING TOSS"
   ]
  },
  {
   "cell_type": "code",
   "execution_count": 152,
   "id": "64637011-6303-4fbe-ae2b-34dfc133e73a",
   "metadata": {},
   "outputs": [
    {
     "data": {
      "text/plain": [
       "['Mumbai Indians',\n",
       " 'Delhi Capitals',\n",
       " 'Gujarat Titans',\n",
       " 'Royal Challengers Bangalore',\n",
       " 'Kolkata Knight Riders',\n",
       " 'Lucknow Super Giants',\n",
       " 'Sunrisers Hyderabad',\n",
       " 'Chennai Super Kings',\n",
       " 'Punjab Kings']"
      ]
     },
     "execution_count": 152,
     "metadata": {},
     "output_type": "execute_result"
    }
   ],
   "source": [
    "list(matches_df['WinningTeam'][matches_df.apply(lambda x:x['TossWinner']==x['WinningTeam'], axis=1)].unique())"
   ]
  },
  {
   "cell_type": "markdown",
   "id": "f888ff21-7852-4736-baf5-080a042b4486",
   "metadata": {},
   "source": [
    "# THE MOST SUCCESFULL IPL TEAMS"
   ]
  },
  {
   "cell_type": "code",
   "execution_count": 167,
   "id": "f206eace-35c8-47d3-848d-1ab0959add58",
   "metadata": {},
   "outputs": [],
   "source": [
    "winning_teams= matches_df['WinningTeam'].value_counts().rename_axis('Team').reset_index(name='winning_count').head(5)\n"
   ]
  },
  {
   "cell_type": "code",
   "execution_count": 176,
   "id": "f80e114a-6d90-40a9-b26b-34c6e3b56a59",
   "metadata": {},
   "outputs": [
    {
     "name": "stderr",
     "output_type": "stream",
     "text": [
      "C:\\Users\\gauri\\AppData\\Local\\Temp\\ipykernel_2352\\4226548846.py:3: FutureWarning: \n",
      "\n",
      "Passing `palette` without assigning `hue` is deprecated and will be removed in v0.14.0. Assign the `y` variable to `hue` and set `legend=False` for the same effect.\n",
      "\n",
      "  sns.barplot(x='winning_count', y='Team', data=winning_teams, palette=['red', 'blue', 'green','hotpink','yellow'])\n"
     ]
    },
    {
     "data": {
      "text/plain": [
       "<Axes: title={'center': 'Succesful teams of IPL'}, xlabel='winning_count', ylabel='Team'>"
      ]
     },
     "execution_count": 176,
     "metadata": {},
     "output_type": "execute_result"
    },
    {
     "data": {
      "image/png": "[encoded data removed]",
      "text/plain": [
       "<Figure size 640x480 with 1 Axes>"
      ]
     },
     "metadata": {},
     "output_type": "display_data"
    }
   ],
   "source": [
    "plt.title(\"Succesful teams of IPL\")\n",
    "\n",
    "sns.barplot(x='winning_count', y='Team', data=winning_teams, palette=['red', 'blue', 'green','hotpink','yellow'])"
   ]
  },
  {
   "cell_type": "markdown",
   "id": "50790873-5afc-4a58-9573-79bde9cd09c5",
   "metadata": {},
   "source": [
    "# MOST SIXES AND MOST FOURS BY INDIVIDUAL AND TEAMS"
   ]
  },
  {
   "cell_type": "code",
   "execution_count": 179,
   "id": "341cd010-c29b-461a-968c-fba67342c4c3",
   "metadata": {},
   "outputs": [
    {
     "data": {
      "text/html": [
       "<div>\n",
       "<style scoped>\n",
       "    .dataframe tbody tr th:only-of-type {\n",
       "        vertical-align: middle;\n",
       "    }\n",
       "\n",
       "    .dataframe tbody tr th {\n",
       "        vertical-align: top;\n",
       "    }\n",
       "\n",
       "    .dataframe thead th {\n",
       "        text-align: right;\n",
       "    }\n",
       "</style>\n",
       "<table border=\"1\" class=\"dataframe\">\n",
       "  <thead>\n",
       "    <tr style=\"text-align: right;\">\n",
       "      <th></th>\n",
       "      <th>ID</th>\n",
       "      <th>innings</th>\n",
       "      <th>overs</th>\n",
       "      <th>ballnumber</th>\n",
       "      <th>batter</th>\n",
       "      <th>bowler</th>\n",
       "      <th>non-striker</th>\n",
       "      <th>extra_type</th>\n",
       "      <th>batsman_run</th>\n",
       "      <th>extras_run</th>\n",
       "      <th>total_run</th>\n",
       "      <th>non_boundary</th>\n",
       "      <th>isWicketDelivery</th>\n",
       "      <th>player_out</th>\n",
       "      <th>kind</th>\n",
       "      <th>fielders_involved</th>\n",
       "      <th>BattingTeam</th>\n",
       "    </tr>\n",
       "  </thead>\n",
       "  <tbody>\n",
       "    <tr>\n",
       "      <th>0</th>\n",
       "      <td>1304105</td>\n",
       "      <td>1</td>\n",
       "      <td>0</td>\n",
       "      <td>1</td>\n",
       "      <td>RD Gaikwad</td>\n",
       "      <td>DR Sams</td>\n",
       "      <td>DP Conway</td>\n",
       "      <td>Normal Dilevery</td>\n",
       "      <td>1</td>\n",
       "      <td>0</td>\n",
       "      <td>1</td>\n",
       "      <td>0</td>\n",
       "      <td>0</td>\n",
       "      <td>on one out</td>\n",
       "      <td>0</td>\n",
       "      <td>0</td>\n",
       "      <td>Chennai Super Kings</td>\n",
       "    </tr>\n",
       "    <tr>\n",
       "      <th>1</th>\n",
       "      <td>1304105</td>\n",
       "      <td>1</td>\n",
       "      <td>0</td>\n",
       "      <td>2</td>\n",
       "      <td>DP Conway</td>\n",
       "      <td>DR Sams</td>\n",
       "      <td>RD Gaikwad</td>\n",
       "      <td>Normal Dilevery</td>\n",
       "      <td>0</td>\n",
       "      <td>0</td>\n",
       "      <td>0</td>\n",
       "      <td>0</td>\n",
       "      <td>1</td>\n",
       "      <td>DP Conway</td>\n",
       "      <td>lbw</td>\n",
       "      <td>0</td>\n",
       "      <td>Chennai Super Kings</td>\n",
       "    </tr>\n",
       "  </tbody>\n",
       "</table>\n",
       "</div>"
      ],
      "text/plain": [
       "        ID  innings  overs  ballnumber      batter   bowler non-striker  \\\n",
       "0  1304105        1      0           1  RD Gaikwad  DR Sams   DP Conway   \n",
       "1  1304105        1      0           2   DP Conway  DR Sams  RD Gaikwad   \n",
       "\n",
       "        extra_type  batsman_run  extras_run  total_run  non_boundary  \\\n",
       "0  Normal Dilevery            1           0          1             0   \n",
       "1  Normal Dilevery            0           0          0             0   \n",
       "\n",
       "   isWicketDelivery  player_out kind fielders_involved          BattingTeam  \n",
       "0                 0  on one out    0                 0  Chennai Super Kings  \n",
       "1                 1   DP Conway  lbw                 0  Chennai Super Kings  "
      ]
     },
     "execution_count": 179,
     "metadata": {},
     "output_type": "execute_result"
    }
   ],
   "source": [
    "ball_df.head(2)"
   ]
  },
  {
   "cell_type": "code",
   "execution_count": 181,
   "id": "0463898a-f5a5-4f80-945e-2e7c2f4939a9",
   "metadata": {},
   "outputs": [
    {
     "name": "stderr",
     "output_type": "stream",
     "text": [
      "C:\\Users\\gauri\\AppData\\Local\\Temp\\ipykernel_2352\\3338318439.py:1: DeprecationWarning: DataFrameGroupBy.apply operated on the grouping columns. This behavior is deprecated, and in a future version of pandas the grouping columns will be excluded from the operation. Either pass `include_groups=False` to exclude the groupings or explicitly select the grouping columns after groupby to silence this warning.\n",
      "  sixes= ball_df.groupby('batter').apply(lambda x: x[x[\"batsman_run\"]==6]['batsman_run'].sum()).nlargest(1)\n"
     ]
    },
    {
     "data": {
      "text/plain": [
       "batter\n",
       "JC Buttler    222\n",
       "dtype: int64"
      ]
     },
     "execution_count": 181,
     "metadata": {},
     "output_type": "execute_result"
    }
   ],
   "source": [
    "sixes= ball_df.groupby('batter').apply(lambda x: x[x[\"batsman_run\"]==6]['batsman_run'].sum()).nlargest(1)\n",
    "sixes"
   ]
  },
  {
   "cell_type": "code",
   "execution_count": 182,
   "id": "0521f769-4cea-447e-811e-fb7a1cb34deb",
   "metadata": {},
   "outputs": [
    {
     "name": "stderr",
     "output_type": "stream",
     "text": [
      "C:\\Users\\gauri\\AppData\\Local\\Temp\\ipykernel_2352\\2199835831.py:1: DeprecationWarning: DataFrameGroupBy.apply operated on the grouping columns. This behavior is deprecated, and in a future version of pandas the grouping columns will be excluded from the operation. Either pass `include_groups=False` to exclude the groupings or explicitly select the grouping columns after groupby to silence this warning.\n",
      "  four= ball_df.groupby('batter').apply(lambda x: x[x[\"batsman_run\"]==4]['batsman_run'].sum()).nlargest(1)\n"
     ]
    },
    {
     "data": {
      "text/plain": [
       "batter\n",
       "JC Buttler    228\n",
       "dtype: int64"
      ]
     },
     "execution_count": 182,
     "metadata": {},
     "output_type": "execute_result"
    }
   ],
   "source": [
    "four= ball_df.groupby('batter').apply(lambda x: x[x[\"batsman_run\"]==4]['batsman_run'].sum()).nlargest(1)\n",
    "four"
   ]
  },
  {
   "cell_type": "code",
   "execution_count": 183,
   "id": "734fef14-b6af-4bdf-bc6f-4e586d625534",
   "metadata": {},
   "outputs": [
    {
     "name": "stderr",
     "output_type": "stream",
     "text": [
      "C:\\Users\\gauri\\AppData\\Local\\Temp\\ipykernel_2352\\795788584.py:1: DeprecationWarning: DataFrameGroupBy.apply operated on the grouping columns. This behavior is deprecated, and in a future version of pandas the grouping columns will be excluded from the operation. Either pass `include_groups=False` to exclude the groupings or explicitly select the grouping columns after groupby to silence this warning.\n",
      "  four= ball_df.groupby('BattingTeam').apply(lambda x: x[x[\"batsman_run\"]==4]['batsman_run'].sum()).nlargest(1)\n"
     ]
    },
    {
     "data": {
      "text/plain": [
       "BattingTeam\n",
       "Gujarat Titans    780\n",
       "dtype: int64"
      ]
     },
     "execution_count": 183,
     "metadata": {},
     "output_type": "execute_result"
    }
   ],
   "source": [
    "four= ball_df.groupby('BattingTeam').apply(lambda x: x[x[\"batsman_run\"]==4]['batsman_run'].sum()).nlargest(1)\n",
    "four"
   ]
  },
  {
   "cell_type": "code",
   "execution_count": 184,
   "id": "bbccfd70-5906-4085-97de-b7163f674faa",
   "metadata": {},
   "outputs": [
    {
     "name": "stderr",
     "output_type": "stream",
     "text": [
      "C:\\Users\\gauri\\AppData\\Local\\Temp\\ipykernel_2352\\1005328772.py:1: DeprecationWarning: DataFrameGroupBy.apply operated on the grouping columns. This behavior is deprecated, and in a future version of pandas the grouping columns will be excluded from the operation. Either pass `include_groups=False` to exclude the groupings or explicitly select the grouping columns after groupby to silence this warning.\n",
      "  sixes= ball_df.groupby('BattingTeam').apply(lambda x: x[x[\"batsman_run\"]==6]['batsman_run'].sum()).nlargest(1)\n"
     ]
    },
    {
     "data": {
      "text/plain": [
       "BattingTeam\n",
       "Rajasthan Royals    648\n",
       "dtype: int64"
      ]
     },
     "execution_count": 184,
     "metadata": {},
     "output_type": "execute_result"
    }
   ],
   "source": [
    "sixes= ball_df.groupby('BattingTeam').apply(lambda x: x[x[\"batsman_run\"]==6]['batsman_run'].sum()).nlargest(1)\n",
    "sixes"
   ]
  },
  {
   "cell_type": "code",
   "execution_count": 186,
   "id": "0da349ea-d607-424c-ad7d-9c471b060ce5",
   "metadata": {},
   "outputs": [
    {
     "data": {
      "text/plain": [
       "array(['field', 'bat'], dtype=object)"
      ]
     },
     "execution_count": 186,
     "metadata": {},
     "output_type": "execute_result"
    }
   ],
   "source": [
    "matches_df['TossDecision'].unique()"
   ]
  },
  {
   "cell_type": "markdown",
   "id": "2b13665b-4d6d-4e77-9451-45f66ef32881",
   "metadata": {},
   "source": [
    "# Most Likely Decision After winning toss"
   ]
  },
  {
   "cell_type": "code",
   "execution_count": 188,
   "id": "c6775653-76f3-4bbd-bb84-4d578e347204",
   "metadata": {},
   "outputs": [
    {
     "data": {
      "text/plain": [
       "TossDecision\n",
       "field    52\n",
       "bat       7\n",
       "Name: count, dtype: int64"
      ]
     },
     "execution_count": 188,
     "metadata": {},
     "output_type": "execute_result"
    }
   ],
   "source": [
    "toss_decision= matches_df['TossDecision'].value_counts()\n",
    "toss_decision"
   ]
  },
  {
   "cell_type": "code",
   "execution_count": 190,
   "id": "82531974-4f26-490f-89d8-3c792edc1a46",
   "metadata": {},
   "outputs": [
    {
     "data": {
      "image/png": "[encoded data removed]",
      "text/plain": [
       "<Figure size 640x480 with 1 Axes>"
      ]
     },
     "metadata": {},
     "output_type": "display_data"
    }
   ],
   "source": [
    "plt.title(\"Most Likely Decision After winning toss\")\n",
    "labels= (np.array(toss_decision.index))\n",
    "sizes= (np.array((toss_decision/toss_decision.sum())*100))\n",
    "colors= ['green','lightgreen']\n",
    "plt.pie(sizes, labels=labels, colors=colors, autopct='%1.1f%%', shadow=True, startangle=90)\n",
    "plt.title(\"Toss decision percentage\",fontweight=\"bold\",fontsize=15)\n",
    "plt.show()"
   ]
  },
  {
   "cell_type": "markdown",
   "id": "21b3c111-b69d-4a1c-9cd3-cb6397b3bde4",
   "metadata": {},
   "source": [
    "# MOST LIKELY DESICION AFTER WINNING TOSS TEAM-WISE"
   ]
  },
  {
   "cell_type": "code",
   "execution_count": 191,
   "id": "0f4e8dc2-b819-4a6d-a22a-6f9aa920ebc2",
   "metadata": {},
   "outputs": [
    {
     "data": {
      "text/plain": [
       "TossWinner                   TossDecision\n",
       "Chennai Super Kings          field           4\n",
       "Delhi Capitals               field           8\n",
       "Gujarat Titans               bat             3\n",
       "                             field           5\n",
       "Kolkata Knight Riders        field           7\n",
       "Lucknow Super Giants         bat             1\n",
       "                             field           4\n",
       "Mumbai Indians               field           7\n",
       "Punjab Kings                 bat             1\n",
       "                             field           2\n",
       "Rajasthan Royals             field           1\n",
       "Royal Challengers Bangalore  bat             2\n",
       "                             field           5\n",
       "Sunrisers Hyderabad          field           9\n",
       "Name: count, dtype: int64"
      ]
     },
     "execution_count": 191,
     "metadata": {},
     "output_type": "execute_result"
    }
   ],
   "source": [
    "toss_decision= matches_df.groupby('TossWinner')['TossDecision'].value_counts().sort_index()\n",
    "toss_decision"
   ]
  },
  {
   "cell_type": "code",
   "execution_count": 199,
   "id": "be0d816f-4532-4391-b892-ac56b611df51",
   "metadata": {},
   "outputs": [
    {
     "data": {
      "image/png": "[encoded data removed]",
      "text/plain": [
       "<Figure size 1000x500 with 1 Axes>"
      ]
     },
     "metadata": {},
     "output_type": "display_data"
    }
   ],
   "source": [
    "toss_decision.unstack().plot(kind = 'bar', figsize=(10,5), title = 'TossDecisions', xlabel = 'Seasons', ylabel = 'Percentage');"
   ]
  },
  {
   "cell_type": "markdown",
   "id": "402fc572-8439-42f3-b937-50f74b7071ae",
   "metadata": {},
   "source": [
    "# BEST 3 PLAYERS OVERALL IPL 2022"
   ]
  },
  {
   "cell_type": "code",
   "execution_count": 232,
   "id": "a628b6c1-1be5-4907-b7ac-c4344c27c170",
   "metadata": {},
   "outputs": [],
   "source": [
    "runs= ball_df.groupby(['batter'])['batsman_run'].sum().reset_index()\n",
    "runs.columns=['Batsman','runs']\n",
    "y=runs.sort_values(by='runs', ascending=False).head(3).reset_index().drop('index', axis=1)"
   ]
  },
  {
   "cell_type": "code",
   "execution_count": 233,
   "id": "ae8723d9-451c-4316-a060-13e91d8fc86c",
   "metadata": {},
   "outputs": [
    {
     "data": {
      "text/html": [
       "<div>\n",
       "<style scoped>\n",
       "    .dataframe tbody tr th:only-of-type {\n",
       "        vertical-align: middle;\n",
       "    }\n",
       "\n",
       "    .dataframe tbody tr th {\n",
       "        vertical-align: top;\n",
       "    }\n",
       "\n",
       "    .dataframe thead th {\n",
       "        text-align: right;\n",
       "    }\n",
       "</style>\n",
       "<table border=\"1\" class=\"dataframe\">\n",
       "  <thead>\n",
       "    <tr style=\"text-align: right;\">\n",
       "      <th></th>\n",
       "      <th>Batsman</th>\n",
       "      <th>runs</th>\n",
       "    </tr>\n",
       "  </thead>\n",
       "  <tbody>\n",
       "    <tr>\n",
       "      <th>0</th>\n",
       "      <td>JC Buttler</td>\n",
       "      <td>625</td>\n",
       "    </tr>\n",
       "    <tr>\n",
       "      <th>1</th>\n",
       "      <td>KL Rahul</td>\n",
       "      <td>459</td>\n",
       "    </tr>\n",
       "    <tr>\n",
       "      <th>2</th>\n",
       "      <td>DA Warner</td>\n",
       "      <td>427</td>\n",
       "    </tr>\n",
       "  </tbody>\n",
       "</table>\n",
       "</div>"
      ],
      "text/plain": [
       "      Batsman  runs\n",
       "0  JC Buttler   625\n",
       "1    KL Rahul   459\n",
       "2   DA Warner   427"
      ]
     },
     "execution_count": 233,
     "metadata": {},
     "output_type": "execute_result"
    }
   ],
   "source": [
    "y"
   ]
  },
  {
   "cell_type": "code",
   "execution_count": 227,
   "id": "b0daa7e2-b013-4075-8015-3df4c77154fc",
   "metadata": {},
   "outputs": [
    {
     "data": {
      "text/plain": [
       "<Axes: xlabel='Batsman', ylabel='runs'>"
      ]
     },
     "execution_count": 227,
     "metadata": {},
     "output_type": "execute_result"
    },
    {
     "data": {
      "image/png": "[encoded data removed]",
      "text/plain": [
       "<Figure size 640x480 with 1 Axes>"
      ]
     },
     "metadata": {},
     "output_type": "display_data"
    }
   ],
   "source": [
    "\n",
    "ax=plt.axes()\n",
    "ax.set(facecolor='grey')\n",
    "sns.barplot(x=y['Batsman'],y=y['runs'],palette='rocket',saturation=1)"
   ]
  },
  {
   "cell_type": "markdown",
   "id": "9d6e8f92-d07d-466a-b517-4faa72e4c86a",
   "metadata": {},
   "source": [
    "# LUCKY STADIUM FOR THE TOP MOST TEAM"
   ]
  },
  {
   "cell_type": "code",
   "execution_count": 235,
   "id": "5413c564-1a69-45fa-a8a2-f897d05d23d0",
   "metadata": {},
   "outputs": [
    {
     "data": {
      "text/html": [
       "<div>\n",
       "<style scoped>\n",
       "    .dataframe tbody tr th:only-of-type {\n",
       "        vertical-align: middle;\n",
       "    }\n",
       "\n",
       "    .dataframe tbody tr th {\n",
       "        vertical-align: top;\n",
       "    }\n",
       "\n",
       "    .dataframe thead th {\n",
       "        text-align: right;\n",
       "    }\n",
       "</style>\n",
       "<table border=\"1\" class=\"dataframe\">\n",
       "  <thead>\n",
       "    <tr style=\"text-align: right;\">\n",
       "      <th></th>\n",
       "      <th>ID</th>\n",
       "      <th>innings</th>\n",
       "      <th>overs</th>\n",
       "      <th>ballnumber</th>\n",
       "      <th>batter</th>\n",
       "      <th>bowler</th>\n",
       "      <th>non-striker</th>\n",
       "      <th>extra_type</th>\n",
       "      <th>batsman_run</th>\n",
       "      <th>extras_run</th>\n",
       "      <th>total_run</th>\n",
       "      <th>non_boundary</th>\n",
       "      <th>isWicketDelivery</th>\n",
       "      <th>player_out</th>\n",
       "      <th>kind</th>\n",
       "      <th>fielders_involved</th>\n",
       "      <th>BattingTeam</th>\n",
       "    </tr>\n",
       "  </thead>\n",
       "  <tbody>\n",
       "    <tr>\n",
       "      <th>0</th>\n",
       "      <td>1304105</td>\n",
       "      <td>1</td>\n",
       "      <td>0</td>\n",
       "      <td>1</td>\n",
       "      <td>RD Gaikwad</td>\n",
       "      <td>DR Sams</td>\n",
       "      <td>DP Conway</td>\n",
       "      <td>Normal Dilevery</td>\n",
       "      <td>1</td>\n",
       "      <td>0</td>\n",
       "      <td>1</td>\n",
       "      <td>0</td>\n",
       "      <td>0</td>\n",
       "      <td>on one out</td>\n",
       "      <td>0</td>\n",
       "      <td>0</td>\n",
       "      <td>Chennai Super Kings</td>\n",
       "    </tr>\n",
       "    <tr>\n",
       "      <th>1</th>\n",
       "      <td>1304105</td>\n",
       "      <td>1</td>\n",
       "      <td>0</td>\n",
       "      <td>2</td>\n",
       "      <td>DP Conway</td>\n",
       "      <td>DR Sams</td>\n",
       "      <td>RD Gaikwad</td>\n",
       "      <td>Normal Dilevery</td>\n",
       "      <td>0</td>\n",
       "      <td>0</td>\n",
       "      <td>0</td>\n",
       "      <td>0</td>\n",
       "      <td>1</td>\n",
       "      <td>DP Conway</td>\n",
       "      <td>lbw</td>\n",
       "      <td>0</td>\n",
       "      <td>Chennai Super Kings</td>\n",
       "    </tr>\n",
       "    <tr>\n",
       "      <th>2</th>\n",
       "      <td>1304105</td>\n",
       "      <td>1</td>\n",
       "      <td>0</td>\n",
       "      <td>3</td>\n",
       "      <td>MM Ali</td>\n",
       "      <td>DR Sams</td>\n",
       "      <td>RD Gaikwad</td>\n",
       "      <td>Normal Dilevery</td>\n",
       "      <td>0</td>\n",
       "      <td>0</td>\n",
       "      <td>0</td>\n",
       "      <td>0</td>\n",
       "      <td>0</td>\n",
       "      <td>on one out</td>\n",
       "      <td>0</td>\n",
       "      <td>0</td>\n",
       "      <td>Chennai Super Kings</td>\n",
       "    </tr>\n",
       "    <tr>\n",
       "      <th>3</th>\n",
       "      <td>1304105</td>\n",
       "      <td>1</td>\n",
       "      <td>0</td>\n",
       "      <td>4</td>\n",
       "      <td>MM Ali</td>\n",
       "      <td>DR Sams</td>\n",
       "      <td>RD Gaikwad</td>\n",
       "      <td>wides</td>\n",
       "      <td>0</td>\n",
       "      <td>1</td>\n",
       "      <td>1</td>\n",
       "      <td>0</td>\n",
       "      <td>0</td>\n",
       "      <td>on one out</td>\n",
       "      <td>0</td>\n",
       "      <td>0</td>\n",
       "      <td>Chennai Super Kings</td>\n",
       "    </tr>\n",
       "    <tr>\n",
       "      <th>4</th>\n",
       "      <td>1304105</td>\n",
       "      <td>1</td>\n",
       "      <td>0</td>\n",
       "      <td>5</td>\n",
       "      <td>MM Ali</td>\n",
       "      <td>DR Sams</td>\n",
       "      <td>RD Gaikwad</td>\n",
       "      <td>Normal Dilevery</td>\n",
       "      <td>0</td>\n",
       "      <td>0</td>\n",
       "      <td>0</td>\n",
       "      <td>0</td>\n",
       "      <td>1</td>\n",
       "      <td>MM Ali</td>\n",
       "      <td>caught</td>\n",
       "      <td>HR Shokeen</td>\n",
       "      <td>Chennai Super Kings</td>\n",
       "    </tr>\n",
       "  </tbody>\n",
       "</table>\n",
       "</div>"
      ],
      "text/plain": [
       "        ID  innings  overs  ballnumber      batter   bowler non-striker  \\\n",
       "0  1304105        1      0           1  RD Gaikwad  DR Sams   DP Conway   \n",
       "1  1304105        1      0           2   DP Conway  DR Sams  RD Gaikwad   \n",
       "2  1304105        1      0           3      MM Ali  DR Sams  RD Gaikwad   \n",
       "3  1304105        1      0           4      MM Ali  DR Sams  RD Gaikwad   \n",
       "4  1304105        1      0           5      MM Ali  DR Sams  RD Gaikwad   \n",
       "\n",
       "        extra_type  batsman_run  extras_run  total_run  non_boundary  \\\n",
       "0  Normal Dilevery            1           0          1             0   \n",
       "1  Normal Dilevery            0           0          0             0   \n",
       "2  Normal Dilevery            0           0          0             0   \n",
       "3            wides            0           1          1             0   \n",
       "4  Normal Dilevery            0           0          0             0   \n",
       "\n",
       "   isWicketDelivery  player_out    kind fielders_involved          BattingTeam  \n",
       "0                 0  on one out       0                 0  Chennai Super Kings  \n",
       "1                 1   DP Conway     lbw                 0  Chennai Super Kings  \n",
       "2                 0  on one out       0                 0  Chennai Super Kings  \n",
       "3                 0  on one out       0                 0  Chennai Super Kings  \n",
       "4                 1      MM Ali  caught        HR Shokeen  Chennai Super Kings  "
      ]
     },
     "execution_count": 235,
     "metadata": {},
     "output_type": "execute_result"
    }
   ],
   "source": [
    "ball_df.head()"
   ]
  },
  {
   "cell_type": "code",
   "execution_count": 246,
   "id": "9d7a60be-809a-432d-8ab0-f1b076c90215",
   "metadata": {},
   "outputs": [],
   "source": [
    "wicket= ball_df.groupby('bowler')['isWicketDelivery'].sum().reset_index()\n",
    "wicket.columns=['Bowlers','Wicket Takes']\n",
    "y=wicket.sort_values(by='Wicket Takes', ascending=False).head(3).reset_index().drop('index', axis=1)"
   ]
  },
  {
   "cell_type": "code",
   "execution_count": 247,
   "id": "51673367-aaf6-4fcd-b948-e6d8c20f8dc7",
   "metadata": {},
   "outputs": [
    {
     "data": {
      "text/html": [
       "<div>\n",
       "<style scoped>\n",
       "    .dataframe tbody tr th:only-of-type {\n",
       "        vertical-align: middle;\n",
       "    }\n",
       "\n",
       "    .dataframe tbody tr th {\n",
       "        vertical-align: top;\n",
       "    }\n",
       "\n",
       "    .dataframe thead th {\n",
       "        text-align: right;\n",
       "    }\n",
       "</style>\n",
       "<table border=\"1\" class=\"dataframe\">\n",
       "  <thead>\n",
       "    <tr style=\"text-align: right;\">\n",
       "      <th></th>\n",
       "      <th>Bowlers</th>\n",
       "      <th>Wicket Takes</th>\n",
       "    </tr>\n",
       "  </thead>\n",
       "  <tbody>\n",
       "    <tr>\n",
       "      <th>0</th>\n",
       "      <td>YS Chahal</td>\n",
       "      <td>25</td>\n",
       "    </tr>\n",
       "    <tr>\n",
       "      <th>1</th>\n",
       "      <td>PWH de Silva</td>\n",
       "      <td>22</td>\n",
       "    </tr>\n",
       "    <tr>\n",
       "      <th>2</th>\n",
       "      <td>AD Russell</td>\n",
       "      <td>18</td>\n",
       "    </tr>\n",
       "  </tbody>\n",
       "</table>\n",
       "</div>"
      ],
      "text/plain": [
       "        Bowlers  Wicket Takes\n",
       "0     YS Chahal            25\n",
       "1  PWH de Silva            22\n",
       "2    AD Russell            18"
      ]
     },
     "execution_count": 247,
     "metadata": {},
     "output_type": "execute_result"
    }
   ],
   "source": [
    "y"
   ]
  },
  {
   "cell_type": "code",
   "execution_count": 256,
   "id": "a23805fa-c754-4527-bce1-86584c878148",
   "metadata": {},
   "outputs": [
    {
     "data": {
      "text/plain": [
       "<Axes: xlabel='Bowlers', ylabel='Wicket Takes'>"
      ]
     },
     "execution_count": 256,
     "metadata": {},
     "output_type": "execute_result"
    },
    {
     "data": {
      "image/png": "[encoded data removed]",
      "text/plain": [
       "<Figure size 640x480 with 1 Axes>"
      ]
     },
     "metadata": {},
     "output_type": "display_data"
    }
   ],
   "source": [
    "ax= plt.axes()\n",
    "sns.barplot(x=y['Bowlers'], y=y['Wicket Takes'])"
   ]
  },
  {
   "cell_type": "markdown",
   "id": "50e543cb-9a40-48db-8214-f2a0dfbaf15a",
   "metadata": {},
   "source": [
    "# LUCKY STADIUM FOR THE TOP MOST TEAM"
   ]
  },
  {
   "cell_type": "code",
   "execution_count": 255,
   "id": "c9374af7-01fb-43b8-802b-7ff27e575709",
   "metadata": {},
   "outputs": [
    {
     "data": {
      "text/plain": [
       "<Axes: xlabel='Venue'>"
      ]
     },
     "execution_count": 255,
     "metadata": {},
     "output_type": "execute_result"
    },
    {
     "data": {
      "image/png": "[encoded data removed]",
      "text/plain": [
       "<Figure size 640x480 with 1 Axes>"
      ]
     },
     "metadata": {},
     "output_type": "display_data"
    }
   ],
   "source": [
    "def lucky(matches_df, team_name):\n",
    "    return matches_df[matches_df['WinningTeam']==team_name]['Venue'].value_counts().nlargest(3)\n",
    "\n",
    "ax=plt.axes()\n",
    "\n",
    "lucky(matches_df, 'Gujarat Titans').plot(kind='bar')"
   ]
  },
  {
   "cell_type": "code",
   "execution_count": null,
   "id": "55d2cef0-2384-4b93-99a0-81fc5b454249",
   "metadata": {},
   "outputs": [],
   "source": []
  },
  {
   "cell_type": "code",
   "execution_count": null,
   "id": "eb60bbd8-204d-4f91-b53f-62eb1633cd04",
   "metadata": {},
   "outputs": [],
   "source": []
  }
 ],
 "metadata": {
  "kernelspec": {
   "display_name": "Python 3 (ipykernel)",
   "language": "python",
   "name": "python3"
  },
  "language_info": {
   "codemirror_mode": {
    "name": "ipython",
    "version": 3
   },
   "file_extension": ".py",
   "mimetype": "text/x-python",
   "name": "python",
   "nbconvert_exporter": "python",
   "pygments_lexer": "ipython3",
   "version": "3.12.4"
  }
 },
 "nbformat": 4,
 "nbformat_minor": 5
}
